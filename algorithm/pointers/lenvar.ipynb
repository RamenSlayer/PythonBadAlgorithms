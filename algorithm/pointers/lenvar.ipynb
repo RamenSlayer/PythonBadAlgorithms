{
 "cells": [
  {
   "cell_type": "markdown",
   "metadata": {},
   "source": [
    "_ways to choose 2 points with min difference_ ~~not a stupid problem~~"
   ]
  },
  {
   "cell_type": "code",
   "execution_count": 8,
   "metadata": {},
   "outputs": [],
   "source": [
    "def lenvars(arr, ml=1, n=None):\n",
    "    if n is None:\n",
    "        n = len(arr)\n",
    "    cnt = 0\n",
    "    for i in range(n):\n",
    "        for j in range(i, n):\n",
    "            if abs(arr[i] - arr[j]) > ml:\n",
    "                cnt += 1\n",
    "    return cnt"
   ]
  },
  {
   "cell_type": "code",
   "execution_count": 9,
   "metadata": {},
   "outputs": [
    {
     "name": "stdout",
     "output_type": "stream",
     "text": [
      "4 4\n",
      "1 3 5 8\n",
      "2\n"
     ]
    }
   ],
   "source": [
    "inn, inl = map(int, input().split())\n",
    "inarr = list(map(int, input().split()))\n",
    "print(lenvars(inarr, inl, inn))"
   ]
  },
  {
   "cell_type": "code",
   "execution_count": 30,
   "metadata": {},
   "outputs": [
    {
     "name": "stdout",
     "output_type": "stream",
     "text": [
      "4 4\n",
      "1 3 5 8\n",
      "2\n"
     ]
    }
   ],
   "source": [
    "def lenvars(arr, ml=1, n=None):\n",
    "    if n is None:\n",
    "        n = len(arr)\n",
    "    cnt = 0\n",
    "    r = 0\n",
    "    for l in range(n):\n",
    "        while (r < n) and (arr[r] - arr[l] <= ml):\n",
    "            r += 1\n",
    "        cnt += n - r\n",
    "    return cnt\n",
    "\n",
    "inn, inl = map(int, input().split())\n",
    "inarr = list(map(int, input().split()))\n",
    "print(lenvars(inarr, inl, inn))\n"
   ]
  },
  {
   "cell_type": "code",
   "execution_count": 21,
   "metadata": {},
   "outputs": [],
   "source": [
    "arr = [1, 2, 5, 8]\n",
    "r, l = 0, 0\n",
    "ml = 2\n",
    "cnt = 0\n",
    "while (arr[r] - arr[l] <= ml) and (r <= len(arr)):\n",
    "    r += 1\n",
    "while (arr[r] - arr[l] > ml):\n",
    "    l += 1\n",
    "    cnt += 1"
   ]
  },
  {
   "cell_type": "code",
   "execution_count": 24,
   "metadata": {},
   "outputs": [
    {
     "name": "stdout",
     "output_type": "stream",
     "text": [
      "0\n"
     ]
    }
   ],
   "source": [
    "print(cnt)"
   ]
  },
  {
   "cell_type": "code",
   "execution_count": 32,
   "metadata": {},
   "outputs": [
    {
     "name": "stdout",
     "output_type": "stream",
     "text": [
      "['q', 'w', 'e', 'r', 't', 'y', 'u', 'i', 'o', 'p', 'a', 's', 'd', 'f', 'g', 'h', 'j', 'k', 'l', 'z', 'x', 'c', 'v', 'b', 'n', 'm']\n"
     ]
    }
   ],
   "source": [
    "print(list(\"qwertyuiopasdfghjklzxcvbnm\"))"
   ]
  },
  {
   "cell_type": "code",
   "execution_count": null,
   "metadata": {},
   "outputs": [],
   "source": []
  }
 ],
 "metadata": {
  "kernelspec": {
   "display_name": "Python 3",
   "language": "python",
   "name": "python3"
  },
  "language_info": {
   "codemirror_mode": {
    "name": "ipython",
    "version": 3
   },
   "file_extension": ".py",
   "mimetype": "text/x-python",
   "name": "python",
   "nbconvert_exporter": "python",
   "pygments_lexer": "ipython3",
   "version": "3.9.6"
  }
 },
 "nbformat": 4,
 "nbformat_minor": 4
}
