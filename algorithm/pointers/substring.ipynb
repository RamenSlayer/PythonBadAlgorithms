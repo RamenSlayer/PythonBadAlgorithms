{
 "cells": [
  {
   "cell_type": "code",
   "execution_count": 22,
   "metadata": {},
   "outputs": [],
   "source": [
    "def mss(s, m=1):\n",
    "    lor = {}\n",
    "    lens = []\n",
    "    cnt = [None, 0]\n",
    "    for ind, letter in enumerate(s):\n",
    "        if letter in lor:\n",
    "            lor[letter] += 1\n",
    "        else:\n",
    "            lor[letter] = 1\n",
    "        if cnt[0] is None:\n",
    "            cnt[0] = ind\n",
    "        cnt[1] += 1\n",
    "        if lor[letter] > m:\n",
    "            lens.append(cnt)\n",
    "            i = 0\n",
    "            while lor[letter] > m:\n",
    "                lor[s[i]] -= 1\n",
    "                cnt[1] -= 1\n",
    "                i += 1\n",
    "            cnt[0] = i\n",
    "        lens.append([*cnt])\n",
    "    return max(lens, key=lambda x)[::-1]\n"
   ]
  },
  {
   "cell_type": "code",
   "execution_count": 23,
   "metadata": {},
   "outputs": [
    {
     "data": {
      "text/plain": [
       "6"
      ]
     },
     "execution_count": 23,
     "metadata": {},
     "output_type": "execute_result"
    }
   ],
   "source": [
    "mss(\"abcabcaabb\", 2)"
   ]
  },
  {
   "cell_type": "code",
   "execution_count": 36,
   "metadata": {},
   "outputs": [
    {
     "name": "stdout",
     "output_type": "stream",
     "text": [
      "0 0\n",
      "\n",
      "0 0\n"
     ]
    }
   ],
   "source": [
    "def mss(s, m=1):\n",
    "    if len(s) == 0:\n",
    "        return 0, 0\n",
    "    lor = {}\n",
    "    lens = []\n",
    "    cnt = [None, 0]\n",
    "    for ind, letter in enumerate(s):\n",
    "        if letter in lor:\n",
    "            lor[letter] += 1\n",
    "        else:\n",
    "            lor[letter] = 1\n",
    "        if cnt[0] is None:\n",
    "            cnt[0] = ind\n",
    "        cnt[1] += 1\n",
    "        if lor[letter] > m:\n",
    "            lens.append(cnt)\n",
    "            i = 0\n",
    "            while lor[letter] > m:\n",
    "                lor[s[i]] -= 1\n",
    "                cnt[1] -= 1\n",
    "                i += 1\n",
    "            cnt[0] = i\n",
    "        lens.append([*cnt])\n",
    "    return max(lens, key=lambda x: x[1])[::-1]\n",
    "\n",
    "inn, inm = map(int, input().split())\n",
    "ins = input()\n",
    "print(*mss(ins, inm))\n"
   ]
  },
  {
   "cell_type": "code",
   "execution_count": 28,
   "metadata": {},
   "outputs": [],
   "source": [
    "from random import choice\n",
    "def rsg(n):\n",
    "    s = \"\"\n",
    "    ltr = ['q', 'w', 'e', 'r', 't', 'y', 'u', 'i', 'o', 'p', 'a', 's', 'd',\n",
    "           'f', 'g', 'h', 'j', 'k', 'l', 'z', 'x', 'c', 'v', 'b', 'n', 'm']\n",
    "    for _ in range(n):\n",
    "        s += choice(ltr)\n",
    "    return s"
   ]
  },
  {
   "cell_type": "code",
   "execution_count": 31,
   "metadata": {},
   "outputs": [
    {
     "name": "stdout",
     "output_type": "stream",
     "text": [
      "1000\n",
      "0.0049991607666015625\n"
     ]
    }
   ],
   "source": [
    "from time import time\n",
    "n = int(input())\n",
    "test = rsg(n)\n",
    "testlen = choice(range(1, n))\n",
    "start = time()\n",
    "tmp = mss(test, testlen)\n",
    "print(time() - start)"
   ]
  },
  {
   "cell_type": "code",
   "execution_count": null,
   "metadata": {},
   "outputs": [],
   "source": [
    "5 2\n",
    "ababa\n"
   ]
  }
 ],
 "metadata": {
  "kernelspec": {
   "display_name": "Python 3",
   "language": "python",
   "name": "python3"
  },
  "language_info": {
   "codemirror_mode": {
    "name": "ipython",
    "version": 3
   },
   "file_extension": ".py",
   "mimetype": "text/x-python",
   "name": "python",
   "nbconvert_exporter": "python",
   "pygments_lexer": "ipython3",
   "version": "3.9.6"
  }
 },
 "nbformat": 4,
 "nbformat_minor": 4
}
