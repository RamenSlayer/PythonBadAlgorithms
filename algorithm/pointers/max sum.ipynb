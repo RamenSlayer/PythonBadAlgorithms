{
 "cells": [
  {
   "cell_type": "code",
   "execution_count": 7,
   "metadata": {},
   "outputs": [],
   "source": [
    "def maxsums(arr, n=None):\n",
    "    if n is None:\n",
    "        n = len(arr)\n",
    "    m = sum(arr)\n",
    "    for i in range(n):\n",
    "        tmp = 0\n",
    "        for j in range(i, n):\n",
    "            tmp += arr[j]\n",
    "#             print(tmp)\n",
    "            if tmp > m:\n",
    "                m = tmp\n",
    "    return m\n"
   ]
  },
  {
   "cell_type": "code",
   "execution_count": 30,
   "metadata": {},
   "outputs": [],
   "source": [
    "from itertools import accumulate as acc\n",
    "def maxsum(arr, n=None):\n",
    "    if n is None:\n",
    "        n = len(arr)\n",
    "    psums = list(acc(arr, lambda x, y: x + y))\n",
    "#     print(psums)\n",
    "    aps = []\n",
    "    aps += psums\n",
    "    for i in range(n - 1):\n",
    "        tmp = list(map(lambda x: x - psums[i], psums[i + 1:]))\n",
    "#         print(tmp)\n",
    "        aps += tmp\n",
    "#     print(aps)\n",
    "    return max(aps)"
   ]
  },
  {
   "cell_type": "code",
   "execution_count": 57,
   "metadata": {},
   "outputs": [
    {
     "name": "stdout",
     "output_type": "stream",
     "text": [
      "1\n",
      "-1\n",
      "-1\n"
     ]
    }
   ],
   "source": [
    "from itertools import accumulate as acc\n",
    "\n",
    "\n",
    "def maxsum(arr, n=None):\n",
    "    if n is None:\n",
    "        n = len(arr)\n",
    "    psums = list(acc(arr, lambda x, y: x + y))\n",
    "    m = max(psums)\n",
    "    for i in range(n - 1):\n",
    "        for j in range(i + 1, n):\n",
    "            tmp = psums[j] - psums[i]\n",
    "            if tmp > m:\n",
    "                m = tmp\n",
    "    return m\n",
    "\n",
    "inn = int(input())\n",
    "inl = list(map(int, input().split()))\n",
    "print(maxsum(inl, inn))\n"
   ]
  },
  {
   "cell_type": "code",
   "execution_count": null,
   "metadata": {},
   "outputs": [],
   "source": [
    "4\n",
    "5 4 -10 4\n"
   ]
  },
  {
   "cell_type": "code",
   "execution_count": null,
   "metadata": {},
   "outputs": [],
   "source": [
    "def maxsum(arr, n=None):\n",
    "    if n is None:\n",
    "        n = len(arr)\n",
    "    psums = [0]\n",
    "    inter = [0]\n",
    "    for i in range(n):\n",
    "        psums.append(psums[i] + arr[i])\n",
    "        if arr[i] < 0:\n",
    "            inter.append(i)\n",
    "    "
   ]
  },
  {
   "cell_type": "code",
   "execution_count": 38,
   "metadata": {},
   "outputs": [],
   "source": [
    "from itertools import accumulate as acc\n",
    "def mmaxsum(arr, n=None):\n",
    "    if n is None:\n",
    "        n = len(arr)\n",
    "    psums = list(acc(arr, lambda x, y: x + y))\n",
    "    m = max(psums)\n",
    "    for i in range(n - 1):\n",
    "        for j in range(i + 1, n):\n",
    "            tmp = psums[j] - psums[i]\n",
    "            if tmp > m:\n",
    "                m = tmp\n",
    "    return m"
   ]
  },
  {
   "cell_type": "code",
   "execution_count": 9,
   "metadata": {},
   "outputs": [],
   "source": [
    "from random import random, choice\n",
    "def rgm(n): #randomly generated mass\n",
    "    tmp = []\n",
    "    sizes = [1, 10, 100, 1000, 10000, 100000, 1000000, 10000000]\n",
    "    sgn = [-1, 1]\n",
    "    for _ in range(n):\n",
    "        tmp.append(round(random() * choice(sizes)) * choice(sgn) + 1)\n",
    "    return tmp"
   ]
  },
  {
   "cell_type": "code",
   "execution_count": 50,
   "metadata": {},
   "outputs": [
    {
     "name": "stdout",
     "output_type": "stream",
     "text": [
      "1000\n",
      "True\n"
     ]
    }
   ],
   "source": [
    "from time import time\n",
    "n = int(input())\n",
    "\n",
    "test = rgm(n)\n",
    "\n",
    "start = time()\n",
    "\n",
    "works = mmaxsum(test, n=n)\n",
    "quest = maxsum(test, n=n)\n",
    "\n",
    "# print(time() - start)\n",
    "print(quest == works)"
   ]
  },
  {
   "cell_type": "code",
   "execution_count": 47,
   "metadata": {},
   "outputs": [],
   "source": [
    "def maxsum(l, n=None):\n",
    "    if n is None:\n",
    "        n = len(l)\n",
    "    psums = [0, ]\n",
    "    for i in range(n):\n",
    "        tmp = l[i] + psums[-1]\n",
    "        psums.append(tmp if tmp > 0 else 0)\n",
    "    return max(psums)"
   ]
  },
  {
   "cell_type": "code",
   "execution_count": 60,
   "metadata": {},
   "outputs": [
    {
     "name": "stdout",
     "output_type": "stream",
     "text": [
      "2\n",
      "-1 0\n",
      "0\n"
     ]
    }
   ],
   "source": [
    "def maxsum(l, n=None):\n",
    "    if n is None:\n",
    "        n = len(l)\n",
    "    psums = [0, ]\n",
    "    for i in range(n):\n",
    "        tmp = l[i] + psums[-1]\n",
    "        psums.append(tmp if tmp > 0 else 0)\n",
    "    out = max(psums)\n",
    "    if out == 0:\n",
    "        out = max(l)\n",
    "    return out\n",
    "\n",
    "inn = int(input())\n",
    "inl = list(map(int, input().split()))\n",
    "print(maxsum(inl, inn))\n"
   ]
  },
  {
   "cell_type": "code",
   "execution_count": null,
   "metadata": {},
   "outputs": [],
   "source": []
  }
 ],
 "metadata": {
  "kernelspec": {
   "display_name": "Python 3",
   "language": "python",
   "name": "python3"
  },
  "language_info": {
   "codemirror_mode": {
    "name": "ipython",
    "version": 3
   },
   "file_extension": ".py",
   "mimetype": "text/x-python",
   "name": "python",
   "nbconvert_exporter": "python",
   "pygments_lexer": "ipython3",
   "version": "3.9.6"
  }
 },
 "nbformat": 4,
 "nbformat_minor": 4
}
