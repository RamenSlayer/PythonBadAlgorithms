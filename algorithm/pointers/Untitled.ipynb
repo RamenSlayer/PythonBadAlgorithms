{
 "cells": [
  {
   "cell_type": "code",
   "execution_count": 2,
   "metadata": {},
   "outputs": [
    {
     "name": "stdout",
     "output_type": "stream",
     "text": [
      "ф\n"
     ]
    },
    {
     "ename": "ValueError",
     "evalue": "invalid literal for int() with base 10: 'ф'",
     "output_type": "error",
     "traceback": [
      "\u001b[1;31m---------------------------------------------------------------------------\u001b[0m",
      "\u001b[1;31mValueError\u001b[0m                                Traceback (most recent call last)",
      "\u001b[1;32m<ipython-input-2-b8f5098dd39f>\u001b[0m in \u001b[0;36m<module>\u001b[1;34m\u001b[0m\n\u001b[1;32m----> 1\u001b[1;33m \u001b[0mn\u001b[0m \u001b[1;33m=\u001b[0m \u001b[0mint\u001b[0m\u001b[1;33m(\u001b[0m\u001b[0minput\u001b[0m\u001b[1;33m(\u001b[0m\u001b[1;33m)\u001b[0m\u001b[1;33m)\u001b[0m\u001b[1;33m\u001b[0m\u001b[1;33m\u001b[0m\u001b[0m\n\u001b[0m\u001b[0;32m      2\u001b[0m \u001b[0mcords\u001b[0m \u001b[1;33m=\u001b[0m \u001b[1;33m[\u001b[0m\u001b[1;33m]\u001b[0m\u001b[1;33m\u001b[0m\u001b[1;33m\u001b[0m\u001b[0m\n\u001b[0;32m      3\u001b[0m \u001b[1;32mfor\u001b[0m \u001b[0mi\u001b[0m \u001b[1;32min\u001b[0m \u001b[0mrange\u001b[0m\u001b[1;33m(\u001b[0m\u001b[0mn\u001b[0m\u001b[1;33m)\u001b[0m\u001b[1;33m:\u001b[0m\u001b[1;33m\u001b[0m\u001b[1;33m\u001b[0m\u001b[0m\n\u001b[0;32m      4\u001b[0m     \u001b[0mcord\u001b[0m \u001b[1;33m=\u001b[0m \u001b[0minput\u001b[0m\u001b[1;33m(\u001b[0m\u001b[1;33m)\u001b[0m\u001b[1;33m.\u001b[0m\u001b[0msplit\u001b[0m\u001b[1;33m(\u001b[0m\u001b[1;33m)\u001b[0m\u001b[1;33m\u001b[0m\u001b[1;33m\u001b[0m\u001b[0m\n\u001b[0;32m      5\u001b[0m     \u001b[0mcords\u001b[0m\u001b[1;33m.\u001b[0m\u001b[0mappend\u001b[0m\u001b[1;33m(\u001b[0m\u001b[0mint\u001b[0m\u001b[1;33m(\u001b[0m\u001b[0mcord\u001b[0m\u001b[1;33m[\u001b[0m\u001b[1;36m1\u001b[0m\u001b[1;33m]\u001b[0m\u001b[1;33m)\u001b[0m\u001b[1;33m)\u001b[0m\u001b[1;33m\u001b[0m\u001b[1;33m\u001b[0m\u001b[0m\n",
      "\u001b[1;31mValueError\u001b[0m: invalid literal for int() with base 10: 'ф'"
     ]
    }
   ],
   "source": [
    "n = int(input())\n",
    "cords = []\n",
    "for i in range(n):\n",
    "    cord = input().split()\n",
    "    cords.append(int(cord[1]))\n",
    "\n",
    "up = [0]\n",
    "down = [0]\n",
    "for i in range(n - 1):\n",
    "    up.append((up[-1] + cords[i + 1] - cords[i]\n",
    "              if cords[i + 1] - cords[i] > 0 else up[-1]))\n",
    "    down.append((down[-1] - cords[i + 1] + cords[i]\n",
    "                 if cords[i + 1] - cords[i] < 0 else down[-1]))\n",
    "\n",
    "\n",
    "m = int(input())\n",
    "for i in range(m):\n",
    "    cord = [int(i) for i in input().split()]\n",
    "    if(cord[0] < cord[1]):\n",
    "        print(up[cord[1] - 1] - up[cord[0] - 1])\n",
    "    else:\n",
    "        print(down[cord[0] - 1] - down[cord[1] - 1])"
   ]
  },
  {
   "cell_type": "code",
   "execution_count": null,
   "metadata": {},
   "outputs": [],
   "source": [
    "inn = int(input())\n",
    "mnt = []\n",
    "for _ in range(inn):\n",
    "    mnt.append(int(input().split()[1]))\n",
    "def mhu(mnt, n=None):\n",
    "    if n is None:\n",
    "        n = len(mnt)\n",
    "    up = []\n",
    "    down = []\n",
    "    for i in range(1, n):\n",
    "        tmp = mnt[i] - mnt[i + 1]\n",
    "        if tmp > 0:\n",
    "            up.append(up[-1] + tmp)\n",
    "            down.append(down[-1])\n",
    "        else:\n",
    "            up.append[up[-1]]\n",
    "            down.append(down[-1] )\n",
    "            "
   ]
  },
  {
   "cell_type": "code",
   "execution_count": null,
   "metadata": {},
   "outputs": [],
   "source": [
    "7\n",
    "2 1\n",
    "4 5\n",
    "7 4\n",
    "8 2\n",
    "9 6\n",
    "11 3\n",
    "15 3\n",
    "1\n",
    "2 6\n"
   ]
  }
 ],
 "metadata": {
  "kernelspec": {
   "display_name": "Python 3",
   "language": "python",
   "name": "python3"
  },
  "language_info": {
   "codemirror_mode": {
    "name": "ipython",
    "version": 3
   },
   "file_extension": ".py",
   "mimetype": "text/x-python",
   "name": "python",
   "nbconvert_exporter": "python",
   "pygments_lexer": "ipython3",
   "version": "3.9.6"
  }
 },
 "nbformat": 4,
 "nbformat_minor": 4
}
