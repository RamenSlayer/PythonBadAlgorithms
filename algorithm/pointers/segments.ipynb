{
 "cells": [
  {
   "cell_type": "code",
   "execution_count": null,
   "metadata": {},
   "outputs": [],
   "source": [
    "# a = (1, 5)\n",
    "# b = (2, 6)\n",
    "segments = [(1, 1), (2, 1), (5, -1), (6, -1)]\n"
   ]
  },
  {
   "cell_type": "code",
   "execution_count": 19,
   "metadata": {},
   "outputs": [],
   "source": [
    "def tlbfind(lst, pos, l=None, r=None):\n",
    "    if l is None:\n",
    "        l = 0\n",
    "    if r is None:\n",
    "        r = len(lst)\n",
    "    mid = (l + r) // 2\n",
    "    if l > r:\n",
    "        return mid - 1\n",
    "    if mid > r - 1:\n",
    "        return r\n",
    "    if pos == lst[mid][0]:\n",
    "        return mid\n",
    "    elif pos <= lst[mid][0]:\n",
    "        return tlbfind(lst, pos, l, mid)\n",
    "    elif pos >= lst[mid][0]:\n",
    "        return tlbfind(lst, pos, mid + 1, r)"
   ]
  },
  {
   "cell_type": "code",
   "execution_count": 43,
   "metadata": {},
   "outputs": [
    {
     "name": "stdout",
     "output_type": "stream",
     "text": [
      "4 0\n",
      "-10 10\n",
      "-10 -4\n",
      "6 10\n",
      "-4 6\n"
     ]
    }
   ],
   "source": [
    "n, m = map(int, input().split())\n",
    "timeline = []\n",
    "tls = 0\n",
    "for i in range(n):\n",
    "    s, e = map(int, input().split())\n",
    "    tmp = sbfind(timeline, s)\n",
    "    if tmp < tls and timeline[tmp][0] == s:\n",
    "        timeline[tmp][1] += 1\n",
    "    else:\n",
    "        timeline.insert(sbfind(timeline, s), [s, 1])\n",
    "        tls += 1\n",
    "    tmp = sbfind(timeline, e)\n",
    "    if tmp < tls and timeline[tmp][0] == e:\n",
    "        timeline[tmp][1] -= 1\n",
    "    else:\n",
    "        timeline.insert(sbfind(timeline, e), [e, -1])\n",
    "        tls += 1"
   ]
  },
  {
   "cell_type": "code",
   "execution_count": 44,
   "metadata": {},
   "outputs": [
    {
     "name": "stdout",
     "output_type": "stream",
     "text": [
      "[[-10, 2], [-4, 0], [6, 0], [10, -2]]\n"
     ]
    }
   ],
   "source": [
    "print(timeline)"
   ]
  },
  {
   "cell_type": "code",
   "execution_count": 45,
   "metadata": {},
   "outputs": [],
   "source": [
    "segments = [0]\n",
    "for event in timeline:\n",
    "    segments.append(segments[-1] + event[1])"
   ]
  },
  {
   "cell_type": "code",
   "execution_count": 46,
   "metadata": {},
   "outputs": [
    {
     "name": "stdout",
     "output_type": "stream",
     "text": [
      "[0, 2, 2, 2, 0]\n"
     ]
    }
   ],
   "source": [
    "print(segments)"
   ]
  },
  {
   "cell_type": "code",
   "execution_count": 47,
   "metadata": {},
   "outputs": [
    {
     "name": "stdout",
     "output_type": "stream",
     "text": [
      "-11 -10 -5 -4 0 6 8 10 11\n"
     ]
    }
   ],
   "source": [
    "points = list(map(int, input().split()))"
   ]
  },
  {
   "cell_type": "code",
   "execution_count": 55,
   "metadata": {},
   "outputs": [
    {
     "name": "stdout",
     "output_type": "stream",
     "text": [
      "0\n",
      "2\n",
      "2\n",
      "2\n",
      "2\n",
      "2\n",
      "2\n",
      "2\n",
      "0\n"
     ]
    }
   ],
   "source": [
    "for point in points:\n",
    "    tmp = tlbfind(timeline, point)\n",
    "    print(segments[tmp + (1 * (tmp < tls and timeline[tmp][0] == point and timeline[tmp][1] > 0))])"
   ]
  },
  {
   "cell_type": "code",
   "execution_count": null,
   "metadata": {},
   "outputs": [],
   "source": []
  },
  {
   "cell_type": "code",
   "execution_count": 2,
   "metadata": {},
   "outputs": [
    {
     "name": "stdout",
     "output_type": "stream",
     "text": [
      "0 0\n",
      "1 2 3\n",
      "0 0 0\n"
     ]
    }
   ],
   "source": [
    "def tlbfind(lst, pos, l=None, r=None):\n",
    "    if l is None:\n",
    "        l = 0\n",
    "    if r is None:\n",
    "        r = len(lst)\n",
    "    mid = (l + r) // 2\n",
    "    if l > r:\n",
    "        return mid - 1\n",
    "    if mid > r - 1:\n",
    "        return r\n",
    "    if pos == lst[mid][0]:\n",
    "        return mid\n",
    "    elif pos <= lst[mid][0]:\n",
    "        return tlbfind(lst, pos, l, mid)\n",
    "    elif pos >= lst[mid][0]:\n",
    "        return tlbfind(lst, pos, mid + 1, r)\n",
    "    return\n",
    "\n",
    "\n",
    "n, m = map(int, input().split())\n",
    "timeline = []\n",
    "tls = 0\n",
    "for i in range(n):\n",
    "    s, e = map(int, input().split())\n",
    "    tmp = tlbfind(timeline, s)\n",
    "    if tmp < tls and timeline[tmp][0] == s:\n",
    "        timeline[tmp][1] += 1\n",
    "    else:\n",
    "        timeline.insert(tmp, [s, 1])\n",
    "        tls += 1\n",
    "    tmp = tlbfind(timeline, e)\n",
    "    if tmp < tls and timeline[tmp][0] == e:\n",
    "        timeline[tmp][1] -= 1\n",
    "    else:\n",
    "        timeline.insert(tmp, [e, -1])\n",
    "        tls += 1\n",
    "\n",
    "segments = [0]\n",
    "for event in timeline:\n",
    "    segments.append(segments[-1] + event[1])\n",
    "\n",
    "points = list(map(int, input().split()))\n",
    "\n",
    "out = []\n",
    "for point in points:\n",
    "    tmp = tlbfind(timeline, point)\n",
    "    var = tmp < tls and timeline[tmp][0] == point and timeline[tmp][1] > 0\n",
    "    out.append(str(segments[tmp + 1 * var]))\n",
    "\n",
    "print(\" \".join(out))\n"
   ]
  },
  {
   "cell_type": "code",
   "execution_count": null,
   "metadata": {},
   "outputs": [],
   "source": []
  },
  {
   "cell_type": "code",
   "execution_count": null,
   "metadata": {},
   "outputs": [],
   "source": [
    "3 2\n",
    "0 5\n",
    "-3 2\n",
    "7 10\n",
    "1 6\n"
   ]
  }
 ],
 "metadata": {
  "kernelspec": {
   "display_name": "Python 3",
   "language": "python",
   "name": "python3"
  },
  "language_info": {
   "codemirror_mode": {
    "name": "ipython",
    "version": 3
   },
   "file_extension": ".py",
   "mimetype": "text/x-python",
   "name": "python",
   "nbconvert_exporter": "python",
   "pygments_lexer": "ipython3",
   "version": "3.9.6"
  }
 },
 "nbformat": 4,
 "nbformat_minor": 4
}
