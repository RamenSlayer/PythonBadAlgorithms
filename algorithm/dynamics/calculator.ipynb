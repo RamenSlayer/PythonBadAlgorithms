{
 "cells": [
  {
   "cell_type": "code",
   "execution_count": 17,
   "metadata": {},
   "outputs": [],
   "source": [
    "def calc(n, order=None):\n",
    "    if order is None:\n",
    "        order = list()\n",
    "    order.append(n)\n",
    "    if n == 1:\n",
    "        return order\n",
    "    if n % 3 == 0:\n",
    "        return calc(n // 3, order)\n",
    "    elif n % 2 == 0:\n",
    "        return calc(n // 2, order)\n",
    "    else:\n",
    "        return calc(n - 1, order)\n"
   ]
  },
  {
   "cell_type": "code",
   "execution_count": 27,
   "metadata": {},
   "outputs": [
    {
     "data": {
      "text/plain": [
       "[23, 22, 11, 10, 5, 4, 2, 1]"
      ]
     },
     "execution_count": 27,
     "metadata": {},
     "output_type": "execute_result"
    }
   ],
   "source": [
    "calc(23)"
   ]
  },
  {
   "cell_type": "code",
   "execution_count": 35,
   "metadata": {},
   "outputs": [
    {
     "name": "stdout",
     "output_type": "stream",
     "text": [
      "5\n",
      "3\n",
      "1 2 4 5\n"
     ]
    }
   ],
   "source": [
    "def calc(n, order=None):\n",
    "    if order is None:\n",
    "        order = list()\n",
    "    order.append(n)\n",
    "    if n == 1:\n",
    "        return order\n",
    "    if n % 3 == 0:\n",
    "        return calc(n // 3, order)\n",
    "    elif n % 2 == 0:\n",
    "        return calc(n // 2, order)\n",
    "    else:\n",
    "        return calc(n - 1, order)\n",
    "\n",
    "inn = int(input())\n",
    "tmp = calc(inn)\n",
    "print(len(tmp) - 1)\n",
    "print(*tmp[::-1])\n"
   ]
  },
  {
   "cell_type": "code",
   "execution_count": 5,
   "metadata": {},
   "outputs": [
    {
     "data": {
      "text/plain": [
       "nan"
      ]
     },
     "execution_count": 5,
     "metadata": {},
     "output_type": "execute_result"
    }
   ],
   "source": [
    "float(\"inf\") * 0"
   ]
  },
  {
   "cell_type": "code",
   "execution_count": 25,
   "metadata": {},
   "outputs": [
    {
     "name": "stdout",
     "output_type": "stream",
     "text": [
      "5\n",
      "3\n",
      "1 3 4 5 \n"
     ]
    }
   ],
   "source": [
    "# Дано: число N\n",
    "# На калькуляторе мы можем выполнять три операции: 1) +1 2) *2 3) *3\n",
    "# Начинаем с 1\n",
    "# Вопрос: за какое наименьшее число операций можем получить N?\n",
    "\n",
    "import sys\n",
    "\n",
    "N = int(input())\n",
    "\n",
    "if N == 1:\n",
    "    print(0)\n",
    "    print(1)\n",
    "    sys.exit()\n",
    "\n",
    "prev = list()\n",
    "min_oper = list()\n",
    "min_oper.append(0)\n",
    "# res.append(1)\n",
    "prev.append(-1)\n",
    "\n",
    "for i in range(1, N):\n",
    "    cur_num = i + 1\n",
    "\n",
    "    pos1 = float(\"inf\") # +1\n",
    "    pos2 = float(\"inf\") # *2\n",
    "    pos3 = float(\"inf\") # *3\n",
    "\n",
    "    pos1 = min_oper[-1]\n",
    "    if cur_num % 2 == 0:\n",
    "        pos2 = min_oper[cur_num // 2 - 1]\n",
    "    if cur_num % 3 == 0:\n",
    "        pos3 = min_oper[cur_num // 3 - 1]\n",
    "    \n",
    "    minimum = min(pos1, pos2, pos3)\n",
    "    min_oper.append(minimum + 1)\n",
    "    if minimum == pos1:\n",
    "        prev.append(i - 1)\n",
    "    elif minimum == pos2:\n",
    "        prev.append(cur_num // 2 - 1)\n",
    "    else:\n",
    "        prev.append(cur_num // 3 - 1)\n",
    "\n",
    "print(min_oper[-1])\n",
    "# print(prev)\n",
    "res = list()\n",
    "res.append(N)\n",
    "cur_elem = prev[-1]\n",
    "while cur_elem != -1:\n",
    "    res.append(cur_elem + 1)\n",
    "    cur_elem = prev[cur_elem]\n",
    "\n",
    "for i in range(len(res) - 1, -1, -1):\n",
    "    print(res[i], end=\" \")\n",
    "print()"
   ]
  },
  {
   "cell_type": "code",
   "execution_count": 30,
   "metadata": {},
   "outputs": [],
   "source": [
    "def calc(n):\n",
    "    if n == 1:\n",
    "        return ([], 1)\n",
    "    ops = [-1]\n",
    "    minops = [0]\n",
    "    for i in range(2, n + 1):\n",
    "        op1 = minops[-1]\n",
    "        op2 = float(\"inf\")\n",
    "        op3 = float(\"inf\")\n",
    "        if i % 2 == 0:\n",
    "            op2 = minops[i // 2 - 1]\n",
    "        if i % 3 == 0:\n",
    "            op3 = minops[i // 3 - 1]\n",
    "        tmp = min(op1, op2, op3)\n",
    "        minops.append(tmp + 1)\n",
    "        if tmp == op1:\n",
    "            ops.append(i - 2)\n",
    "        elif tmp == op2:\n",
    "            ops.append(i // 2 - 1)\n",
    "        else:\n",
    "            ops.append(i // 3 - 1)\n",
    "    prog = [n]\n",
    "    tmp = ops[-1]\n",
    "    while tmp != -1:\n",
    "        prog.append(tmp + 1)\n",
    "        tmp = ops[tmp]\n",
    "    return prog[::-1], minops[-1]"
   ]
  },
  {
   "cell_type": "code",
   "execution_count": 36,
   "metadata": {},
   "outputs": [
    {
     "name": "stdout",
     "output_type": "stream",
     "text": [
      "2\n",
      "1\n",
      "1 2\n"
     ]
    }
   ],
   "source": [
    "def calc(n):\n",
    "    if n == 1:\n",
    "        return ([1], 0)\n",
    "    ops = [-1]\n",
    "    minops = [0]\n",
    "    for i in range(2, n + 1):\n",
    "        op1 = minops[-1]\n",
    "        op2 = float(\"inf\")\n",
    "        op3 = float(\"inf\")\n",
    "        if i % 2 == 0:\n",
    "            op2 = minops[i // 2 - 1]\n",
    "        if i % 3 == 0:\n",
    "            op3 = minops[i // 3 - 1]\n",
    "        tmp = min(op1, op2, op3)\n",
    "        minops.append(tmp + 1)\n",
    "        if tmp == op1:\n",
    "            ops.append(i - 2)\n",
    "        elif tmp == op2:\n",
    "            ops.append(i // 2 - 1)\n",
    "        else:\n",
    "            ops.append(i // 3 - 1)\n",
    "    prog = [n]\n",
    "    tmp = ops[-1]\n",
    "    while tmp != -1:\n",
    "        prog.append(tmp + 1)\n",
    "        tmp = ops[tmp]\n",
    "    return prog[::-1], minops[-1]\n",
    "\n",
    "inn = int(input())\n",
    "out = calc(inn)\n",
    "print(out[1])\n",
    "print(*out[0])\n"
   ]
  },
  {
   "cell_type": "code",
   "execution_count": null,
   "metadata": {},
   "outputs": [],
   "source": [
    "(1 + 1) * 2 "
   ]
  }
 ],
 "metadata": {
  "kernelspec": {
   "display_name": "Python 3",
   "language": "python",
   "name": "python3"
  },
  "language_info": {
   "codemirror_mode": {
    "name": "ipython",
    "version": 3
   },
   "file_extension": ".py",
   "mimetype": "text/x-python",
   "name": "python",
   "nbconvert_exporter": "python",
   "pygments_lexer": "ipython3",
   "version": "3.9.6"
  }
 },
 "nbformat": 4,
 "nbformat_minor": 4
}
