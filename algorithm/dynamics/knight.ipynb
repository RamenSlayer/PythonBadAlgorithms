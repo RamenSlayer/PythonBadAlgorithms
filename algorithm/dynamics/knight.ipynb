{
 "cells": [
  {
   "cell_type": "code",
   "execution_count": null,
   "metadata": {},
   "outputs": [],
   "source": [
    "n, m = list(map(int, input().split()))\n",
    "\n",
    "dp = [[0 for i in range(m)] for i in range(n)]\n",
    "\n",
    "dp[0][0] = 1\n",
    "\n",
    "for i in range(n):\n",
    "    for j in range(m):\n",
    "        if i + j == 0:\n",
    "            continue\n",
    "        num1 = 0\n",
    "        num2 = 0\n",
    "        if i - 2 >= 0 and j - 1 >= 0:\n",
    "            num1 = dp[i - 2][j - 1]\n",
    "        if i - 1 >= 0 and j - 2 >= 0:\n",
    "            num2 = dp[i - 1][j - 2]\n",
    "        dp[i][j] = num1 + num2\n",
    "print(dp[n - 1][m - 1])"
   ]
  },
  {
   "cell_type": "code",
   "execution_count": null,
   "metadata": {},
   "outputs": [],
   "source": [
    "n, m = list(map(int, input().split()))\n",
    "\n",
    "dp = [[0 for i in range(m)] for i in range(n)]\n",
    "dp[0][0] = 1\n",
    "\n",
    "for diag in range(n + m):\n",
    "    for i in range(min(diag + 1, n)):\n",
    "        j = diag - i\n",
    "        if j >= m:\n",
    "            continue\n",
    "        if i + j == 0:\n",
    "            continue\n",
    "        num1 = 0\n",
    "        num2 = 0\n",
    "        num3 = 0\n",
    "        num4 = 0\n",
    "        if i - 2 >= 0 and j - 1 >= 0:\n",
    "            num1 = dp[i - 2][j - 1]\n",
    "        if i - 1 >= 0 and j - 2 >= 0:\n",
    "            num2 = dp[i - 1][j - 2]\n",
    "        if i - 2 >= 0 and j + 1 < m:\n",
    "            num3 = dp[i - 2][j + 1]\n",
    "        if i + 1 < n and j - 2 >= 0:\n",
    "            num4 = dp[i + 1][j - 2]\n",
    "        dp[i][j] = num1 + num2 + num3 + num4\n",
    "\n",
    "print(dp[n - 1][m - 1])"
   ]
  },
  {
   "cell_type": "code",
   "execution_count": 27,
   "metadata": {},
   "outputs": [
    {
     "name": "stdout",
     "output_type": "stream",
     "text": [
      "3 2\n",
      "1\n"
     ]
    }
   ],
   "source": [
    "n, m = map(int, input().split())\n",
    "field = [[0 for i in range(m)] for j in range(n)]\n",
    "field[0][0] = 1\n",
    "for exp in range(1, n + m):\n",
    "    for i in range(1, min(exp + 1, n)):\n",
    "        j = exp - i\n",
    "        if j >= m:\n",
    "            continue\n",
    "        up = 0\n",
    "        left = 0\n",
    "        ru = 0\n",
    "        dl = 0\n",
    "        if i - 2 >= 0 and j - 1 >= 0:\n",
    "            up = field[i - 2][j - 1]\n",
    "        if i - 1 >= 0 and j - 2 >= 0:\n",
    "            left = field[i - 1][j - 2]\n",
    "        if i - 2 > 0 and j + 1 < m:\n",
    "            ld = field[i - 2][j + 1]\n",
    "        if i + 1 < n and j - 2 >= 0:\n",
    "            ru = field[i + 1][j - 2]\n",
    "        field[i][j] = up + left + ru + dl\n",
    "print(field[n - 1][m - 1])\n"
   ]
  },
  {
   "cell_type": "code",
   "execution_count": 13,
   "metadata": {},
   "outputs": [
    {
     "name": "stdout",
     "output_type": "stream",
     "text": [
      "1 0 0 0 0 0\n",
      "0 0 1 1 0 0\n",
      "0 1 0 0 1 3\n",
      "0 0 0 2 2 0\n",
      "0 0 1 0 0 3\n",
      "0 0 0 0 3 2\n"
     ]
    }
   ],
   "source": [
    "for line in field:\n",
    "    print(\" \".join(map(str, line)))"
   ]
  },
  {
   "cell_type": "code",
   "execution_count": null,
   "metadata": {},
   "outputs": [],
   "source": []
  }
 ],
 "metadata": {
  "kernelspec": {
   "display_name": "Python 3",
   "language": "python",
   "name": "python3"
  },
  "language_info": {
   "codemirror_mode": {
    "name": "ipython",
    "version": 3
   },
   "file_extension": ".py",
   "mimetype": "text/x-python",
   "name": "python",
   "nbconvert_exporter": "python",
   "pygments_lexer": "ipython3",
   "version": "3.9.6"
  }
 },
 "nbformat": 4,
 "nbformat_minor": 4
}
