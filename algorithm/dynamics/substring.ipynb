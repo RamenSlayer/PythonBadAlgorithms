{
 "cells": [
  {
   "cell_type": "code",
   "execution_count": 3,
   "metadata": {},
   "outputs": [],
   "source": [
    "def wtl(fr, to):\n",
    "    l = 0\n",
    "    r = len(fr)\n",
    "    ss = []\n",
    "    n = len(fr)\n",
    "    for i in range(n + 1):\n",
    "        while fr[l:r] in to and r <= n:\n",
    "            ss.append(fr[l:r])\n",
    "            r += 1\n",
    "        while fr[l:r] not in to and l < r:\n",
    "            l += 1\n",
    "    return ss"
   ]
  },
  {
   "cell_type": "code",
   "execution_count": 6,
   "metadata": {},
   "outputs": [
    {
     "name": "stdout",
     "output_type": "stream",
     "text": [
      "['6']\n"
     ]
    }
   ],
   "source": [
    "string = \"123456\"\n",
    "test = \"231236\"\n",
    "\n",
    "print(wtl(string, test))"
   ]
  },
  {
   "cell_type": "code",
   "execution_count": null,
   "metadata": {},
   "outputs": [],
   "source": []
  }
 ],
 "metadata": {
  "kernelspec": {
   "display_name": "Python 3",
   "language": "python",
   "name": "python3"
  },
  "language_info": {
   "codemirror_mode": {
    "name": "ipython",
    "version": 3
   },
   "file_extension": ".py",
   "mimetype": "text/x-python",
   "name": "python",
   "nbconvert_exporter": "python",
   "pygments_lexer": "ipython3",
   "version": "3.9.6"
  }
 },
 "nbformat": 4,
 "nbformat_minor": 4
}
