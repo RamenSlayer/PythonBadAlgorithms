{
 "cells": [
  {
   "cell_type": "code",
   "execution_count": 35,
   "metadata": {},
   "outputs": [],
   "source": [
    "from functools import cache\n",
    "@cache\n",
    "def golf(n):\n",
    "    if n == 0:\n",
    "        return []\n",
    "    if n == 1:\n",
    "        return [\"0\", \"1\"]\n",
    "    if n == 2:\n",
    "        return [\"00\", \"01\", \"10\", \"11\"]\n",
    "    tmp = gol(n - 1)\n",
    "    out = []\n",
    "    for var in tmp:\n",
    "        out.append(var + \"0\")\n",
    "        if var[-2:] != \"11\":\n",
    "            out.append(var + \"1\")\n",
    "    return out"
   ]
  },
  {
   "cell_type": "code",
   "execution_count": 16,
   "metadata": {},
   "outputs": [],
   "source": [
    "from time import time"
   ]
  },
  {
   "cell_type": "code",
   "execution_count": 50,
   "metadata": {},
   "outputs": [
    {
     "name": "stdout",
     "output_type": "stream",
     "text": [
      "35\n",
      "0.0\n"
     ]
    }
   ],
   "source": [
    "n = int(input())\n",
    "start = time()\n",
    "tmp = gold(n)\n",
    "print(time() - start)\n",
    "# print(tmp)"
   ]
  },
  {
   "cell_type": "code",
   "execution_count": 36,
   "metadata": {},
   "outputs": [],
   "source": [
    "def sod(d):\n",
    "    return sum(d.values())"
   ]
  },
  {
   "cell_type": "code",
   "execution_count": 43,
   "metadata": {},
   "outputs": [],
   "source": [
    "def gold(n):\n",
    "    cnt = {\"0\":0, \"1\":0, \"11\":0}\n",
    "    if n == 0:\n",
    "        return cnt\n",
    "    if n == 1:\n",
    "        cnt = {\"0\":1, \"1\":1, \"11\":0}\n",
    "        return cnt\n",
    "    cnt = gold(n - 1)\n",
    "    out = {}\n",
    "    out[\"0\"] = sod(cnt)\n",
    "    out[\"1\"] = cnt[\"0\"]\n",
    "    out[\"11\"] = cnt[\"1\"]\n",
    "    return out"
   ]
  },
  {
   "cell_type": "code",
   "execution_count": 8,
   "metadata": {},
   "outputs": [
    {
     "name": "stdout",
     "output_type": "stream",
     "text": [
      "7\n",
      "81\n"
     ]
    }
   ],
   "source": [
    "def sod(d):\n",
    "    return sum(d.values())\n",
    "\n",
    "\n",
    "def gold(n):\n",
    "    cnt = {\"0\": 0, \"1\": 0, \"11\": 0}\n",
    "    if n == 0:\n",
    "        return cnt\n",
    "    if n == 1:\n",
    "        cnt = {\"0\": 1, \"1\": 1, \"11\": 0}\n",
    "        return cnt\n",
    "    cnt = gold(n - 1)\n",
    "    out = {}\n",
    "    out[\"0\"] = sod(cnt)\n",
    "    out[\"1\"] = cnt[\"0\"]\n",
    "    out[\"11\"] = cnt[\"1\"]\n",
    "    return out\n",
    "\n",
    "inn = int(input())\n",
    "print(sod(gold(inn)))\n"
   ]
  },
  {
   "cell_type": "code",
   "execution_count": null,
   "metadata": {},
   "outputs": [],
   "source": [
    "sod(gold(1))"
   ]
  },
  {
   "cell_type": "code",
   "execution_count": null,
   "metadata": {},
   "outputs": [],
   "source": []
  }
 ],
 "metadata": {
  "kernelspec": {
   "display_name": "Python 3",
   "language": "python",
   "name": "python3"
  },
  "language_info": {
   "codemirror_mode": {
    "name": "ipython",
    "version": 3
   },
   "file_extension": ".py",
   "mimetype": "text/x-python",
   "name": "python",
   "nbconvert_exporter": "python",
   "pygments_lexer": "ipython3",
   "version": "3.9.6"
  }
 },
 "nbformat": 4,
 "nbformat_minor": 4
}
