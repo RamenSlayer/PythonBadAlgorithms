{
 "cells": [
  {
   "cell_type": "code",
   "execution_count": 1,
   "metadata": {},
   "outputs": [],
   "source": [
    "def ZF(s):\n",
    "    n = len(s)\n",
    "    z = [0 for i in range(n)]\n",
    "    l, r = 0, 0\n",
    "    for i in range(1, n):\n",
    "        z[i] = max(0, min(r - i, z[i - l]))\n",
    "        while (i + z[i] < n) and (s[z[i]] == s[i + z[i]]):\n",
    "            z[i] += 1\n",
    "        if i + z[i] > r:\n",
    "            l = i\n",
    "            r = i + z[i]\n",
    "    return z"
   ]
  },
  {
   "cell_type": "code",
   "execution_count": 9,
   "metadata": {},
   "outputs": [
    {
     "name": "stdout",
     "output_type": "stream",
     "text": [
      "ababbababa\n",
      "aba\n"
     ]
    }
   ],
   "source": [
    "instr = input()\n",
    "inpat = input()\n",
    "n = len(instr)\n",
    "m = len(inpat)\n",
    "tmp = ZF(inpat + '#' + instr)"
   ]
  },
  {
   "cell_type": "code",
   "execution_count": 10,
   "metadata": {},
   "outputs": [
    {
     "name": "stdout",
     "output_type": "stream",
     "text": [
      "[0, 0, 1, 0, 3, 0, 2, 0, 0, 3, 0, 3, 0, 1]\n"
     ]
    }
   ],
   "source": [
    "print(tmp)"
   ]
  },
  {
   "cell_type": "code",
   "execution_count": 12,
   "metadata": {},
   "outputs": [],
   "source": [
    "res = []\n",
    "for i in range(m + 1, n + 1 + m):\n",
    "    if tmp[i] == m:\n",
    "        res.append(i - m - 1)"
   ]
  },
  {
   "cell_type": "code",
   "execution_count": 13,
   "metadata": {},
   "outputs": [
    {
     "name": "stdout",
     "output_type": "stream",
     "text": [
      "[0, 5, 7]\n"
     ]
    }
   ],
   "source": [
    "print(res)"
   ]
  },
  {
   "cell_type": "code",
   "execution_count": null,
   "metadata": {},
   "outputs": [],
   "source": [
    "ababbababa\n",
    "aba\n"
   ]
  },
  {
   "cell_type": "code",
   "execution_count": null,
   "metadata": {},
   "outputs": [],
   "source": [
    "def ZF(s):\n",
    "    n = len(s)\n",
    "    z = [0 for i in range(n)]\n",
    "    l, r = 0, 0\n",
    "    for i in range(1, n):\n",
    "        z[i] = max(0, min(r - i, z[i - l]))\n",
    "        while (i + z[i] < n) and (s[z[i]] == s[i + z[i]]):\n",
    "            z[i] += 1\n",
    "        if i + z[i] > r:\n",
    "            l = i\n",
    "            r = i + z[i]\n",
    "    return z\n",
    "\n",
    "instr = input()\n",
    "inpat = input()\n",
    "n = len(instr)\n",
    "m = len(inpat)\n",
    "tmp = ZF(inpat + '#' + instr)\n",
    "\n",
    "res = []\n",
    "for i in range(m + 1, n + 1 + m):\n",
    "    if tmp[i] == m:\n",
    "        res.append(i - m - 1)\n",
    "\n",
    "\n",
    "print(*res)\n"
   ]
  },
  {
   "cell_type": "code",
   "execution_count": 14,
   "metadata": {},
   "outputs": [],
   "source": [
    "from random import choice\n",
    "def rs(n):\n",
    "    d = list(\"qwertyuiopasdfghjklzxcvbnm\")\n",
    "    out = \"\"\n",
    "    for _ in range(n):\n",
    "        out += choice(d)\n",
    "    return out"
   ]
  },
  {
   "cell_type": "code",
   "execution_count": 17,
   "metadata": {},
   "outputs": [],
   "source": [
    "tmp = ZF(rs(50000))"
   ]
  },
  {
   "cell_type": "markdown",
   "metadata": {},
   "source": [
    "# Рюкзак"
   ]
  },
  {
   "cell_type": "code",
   "execution_count": 35,
   "metadata": {},
   "outputs": [
    {
     "name": "stdout",
     "output_type": "stream",
     "text": [
      "500 3\n",
      "100 100 100\n"
     ]
    }
   ],
   "source": [
    "n, m = map(int, input().split())\n",
    "weights = list(map(int, input().split()))"
   ]
  },
  {
   "cell_type": "code",
   "execution_count": 36,
   "metadata": {},
   "outputs": [],
   "source": [
    "pw = [0] + [None] * n"
   ]
  },
  {
   "cell_type": "code",
   "execution_count": 37,
   "metadata": {},
   "outputs": [
    {
     "name": "stdout",
     "output_type": "stream",
     "text": [
      "0\n",
      "100\n",
      "0\n",
      "200\n",
      "100\n",
      "0\n"
     ]
    }
   ],
   "source": [
    "for weight in weights:\n",
    "    for i in range(n, -1, -1):\n",
    "        if pw[i] is not None:\n",
    "            tmp = i + weight\n",
    "            if tmp <= n:\n",
    "                if (pw[tmp] is None) or (pw[tmp] < pw[i] + 1):\n",
    "                    pw[tmp] = pw[i] + 1"
   ]
  },
  {
   "cell_type": "code",
   "execution_count": null,
   "metadata": {},
   "outputs": [],
   "source": [
    "500 3\n",
    "100 100 100\n"
   ]
  },
  {
   "cell_type": "code",
   "execution_count": 40,
   "metadata": {},
   "outputs": [
    {
     "name": "stdout",
     "output_type": "stream",
     "text": [
      "3\n"
     ]
    }
   ],
   "source": [
    "print(max(pw, key=lambda x: -inf if x is None else x))"
   ]
  },
  {
   "cell_type": "code",
   "execution_count": 18,
   "metadata": {},
   "outputs": [],
   "source": [
    "inf = float('inf')\n",
    "def smax(l):\n",
    "    m = -inf\n",
    "    for line in l:\n",
    "        tmp = max(line, key=lambda x: -inf if x is None else x)\n",
    "        if tmp > m:\n",
    "            m = tmp\n",
    "    return m"
   ]
  },
  {
   "cell_type": "code",
   "execution_count": null,
   "metadata": {},
   "outputs": [],
   "source": [
    "pw(smax)"
   ]
  },
  {
   "cell_type": "code",
   "execution_count": null,
   "metadata": {},
   "outputs": [],
   "source": [
    "inf = float('inf')"
   ]
  },
  {
   "cell_type": "code",
   "execution_count": null,
   "metadata": {},
   "outputs": [],
   "source": [
    "inf = float('inf')\n",
    "\n",
    "n, m = map(int, input().split())\n",
    "weights = list(map(int, input().split()))\n",
    "\n",
    "pw = [0] + [None] * n\n",
    "\n",
    "for weight in weights:\n",
    "    for i in range(n, -1, -1):\n",
    "        if pw[i] is not None:\n",
    "            tmp = i + weight\n",
    "            if tmp <= n:\n",
    "                if (pw[tmp] is None) or (pw[tmp] < pw[i] + 1):\n",
    "                    pw[tmp] = pw[i] + 1\n",
    "\n",
    "\n",
    "print(max(pw, key=lambda x: -inf if x is None else x))\n"
   ]
  },
  {
   "cell_type": "code",
   "execution_count": 14,
   "metadata": {},
   "outputs": [
    {
     "name": "stdout",
     "output_type": "stream",
     "text": [
      "1000 7\n",
      "250 125 315 470 825 115 770\n",
      "4\n"
     ]
    }
   ],
   "source": [
    "def bfind(lst, pos, l=None, r=None):\n",
    "    if l is None:\n",
    "        l = 0\n",
    "    if r is None:\n",
    "        r = len(lst)\n",
    "    mid = (l + r) // 2\n",
    "    if l > r:\n",
    "        return mid - 1\n",
    "    if mid > r - 1:\n",
    "        return r\n",
    "    if pos == lst[mid]:\n",
    "        return mid\n",
    "    elif pos < lst[mid]:\n",
    "        return bfind(lst, pos, l, mid)\n",
    "    elif pos > lst[mid]:\n",
    "        return bfind(lst, pos, mid + 1, r)\n",
    "\n",
    "\n",
    "inf = float('inf')\n",
    "\n",
    "n, m = map(int, input().split())\n",
    "weights = list(map(int, input().split()))\n",
    "\n",
    "pw = [0] + [None] * n\n",
    "\n",
    "nzi = [0]\n",
    "\n",
    "for weight in weights:\n",
    "    for i in nzi[::-1]:\n",
    "        if pw[i] is not None:\n",
    "            tmp = i + weight\n",
    "            if tmp <= n:\n",
    "                if (pw[tmp] is None) or (pw[tmp] < pw[i] + 1):\n",
    "                    pw[tmp] = pw[i] + 1\n",
    "                if tmp not in nzi:\n",
    "                    nzi.insert(bfind(nzi, tmp), tmp)\n",
    "\n",
    "print(max(pw, key=lambda x: -inf if x is None else x))\n"
   ]
  },
  {
   "cell_type": "code",
   "execution_count": null,
   "metadata": {},
   "outputs": [],
   "source": [
    "1000 7\n",
    "250 125 315 470 825 115 770\n"
   ]
  },
  {
   "cell_type": "code",
   "execution_count": 3,
   "metadata": {},
   "outputs": [],
   "source": [
    "from itertools import permutations"
   ]
  },
  {
   "cell_type": "code",
   "execution_count": 6,
   "metadata": {},
   "outputs": [],
   "source": [
    "tmp = list(permutations(weights))"
   ]
  },
  {
   "cell_type": "code",
   "execution_count": 8,
   "metadata": {},
   "outputs": [
    {
     "name": "stdout",
     "output_type": "stream",
     "text": [
      "5040\n"
     ]
    }
   ],
   "source": [
    "print(len(tmp))"
   ]
  },
  {
   "cell_type": "markdown",
   "metadata": {},
   "source": [
    "# Буквы"
   ]
  },
  {
   "cell_type": "code",
   "execution_count": 10,
   "metadata": {},
   "outputs": [
    {
     "name": "stdout",
     "output_type": "stream",
     "text": [
      "DUNGEON\n",
      "MASTER\n"
     ]
    }
   ],
   "source": [
    "start = input()\n",
    "end = input()\n",
    "l = 0\n",
    "n = len(start)"
   ]
  },
  {
   "cell_type": "code",
   "execution_count": null,
   "metadata": {},
   "outputs": [],
   "source": [
    "for a in end:\n",
    "    for i in range(l, n):\n",
    "        if b == a:\n",
    "            l = i\n",
    "    "
   ]
  },
  {
   "cell_type": "markdown",
   "metadata": {},
   "source": [
    "# Никому не нужная херь"
   ]
  },
  {
   "cell_type": "code",
   "execution_count": null,
   "metadata": {},
   "outputs": [],
   "source": [
    "n = int(input())\n",
    "ppl = []\n",
    "for _ in range(n):\n",
    "    ppl.append(list(map(int, input().split())))\n"
   ]
  },
  {
   "cell_type": "code",
   "execution_count": null,
   "metadata": {},
   "outputs": [],
   "source": [
    "inf = float('inf')\n",
    "res = [inf, inf]\n",
    "for i, person in enumerate(ppl):\n",
    "    if res[-1]"
   ]
  },
  {
   "cell_type": "markdown",
   "metadata": {},
   "source": [
    "# Нации"
   ]
  },
  {
   "cell_type": "code",
   "execution_count": 19,
   "metadata": {},
   "outputs": [
    {
     "name": "stdout",
     "output_type": "stream",
     "text": [
      "3\n"
     ]
    }
   ],
   "source": [
    "n = int(input())"
   ]
  },
  {
   "cell_type": "code",
   "execution_count": 20,
   "metadata": {},
   "outputs": [
    {
     "name": "stdout",
     "output_type": "stream",
     "text": [
      "-600 -400\n",
      "-450 -300\n",
      "-400 -50\n"
     ]
    }
   ],
   "source": [
    "tl = []\n",
    "for i in range(1, n + 1):\n",
    "    tmp = list(map(int, input().split()))\n",
    "    tl.append((tmp[0], 1, i))\n",
    "    tl.append((tmp[1], -1, i))\n",
    "tl.sort()"
   ]
  },
  {
   "cell_type": "code",
   "execution_count": 21,
   "metadata": {},
   "outputs": [],
   "source": [
    "m = (float(inf), 0, 0)\n",
    "for i, event in enumerate(tl):\n",
    "    if event[1] == 1:\n",
    "        continue\n",
    "    for j in range(i - 1, -1, -1):\n",
    "        if tl[j][2] != event[2]:\n",
    "            tmp = abs(tl[j][0] - event[0])\n",
    "            if tmp < m[0]:\n",
    "                m = (tmp, event[2], tl[j][2])\n",
    "            break"
   ]
  },
  {
   "cell_type": "code",
   "execution_count": 22,
   "metadata": {},
   "outputs": [
    {
     "name": "stdout",
     "output_type": "stream",
     "text": [
      "1 2\n"
     ]
    }
   ],
   "source": [
    "print(*sorted(m[1:]))"
   ]
  },
  {
   "cell_type": "code",
   "execution_count": null,
   "metadata": {},
   "outputs": [],
   "source": [
    "n = int(input())\n",
    "\n",
    "tl = []\n",
    "for i in range(1, n + 1):\n",
    "    tmp = list(map(int, input().split()))\n",
    "    tl.append((tmp[0], 1, i))\n",
    "    tl.append((tmp[1], -1, i))\n",
    "tl.sort()\n",
    "\n",
    "m = (float(inf), 0, 0)\n",
    "for i, event in enumerate(tl):\n",
    "    if event[1] == 1:\n",
    "        continue\n",
    "    for j in range(i - 1, -1, -1):\n",
    "        if tl[j][2] != event[2]:\n",
    "            tmp = abs(tl[j][0] - event[0])\n",
    "            if tmp < m[0]:\n",
    "                m = (tmp, event[2], tl[j][2])\n",
    "            break\n",
    "\n",
    "\n",
    "print(*sorted(m[1:]))\n"
   ]
  },
  {
   "cell_type": "code",
   "execution_count": null,
   "metadata": {},
   "outputs": [],
   "source": [
    "3\n",
    "-600 -400\n",
    "-450 -300\n",
    "-400 -50\n"
   ]
  },
  {
   "cell_type": "code",
   "execution_count": null,
   "metadata": {},
   "outputs": [],
   "source": [
    "last = 0\n",
    "cnt = 0\n",
    "ap = []\n",
    "m = float('inf')\n",
    "for event in tl:\n",
    "    cnt += event[1]\n",
    "    if event[1] == -1:\n",
    "        ap.remove(event[2])\n",
    "    else:\n",
    "        ap.append(event[2])\n",
    "    if last = 0 and event[1] == 1:\n",
    "        last = event[1]\n",
    "    else:\n",
    "        "
   ]
  },
  {
   "cell_type": "raw",
   "metadata": {},
   "source": [
    "+        +         -               +           +            -"
   ]
  }
 ],
 "metadata": {
  "kernelspec": {
   "display_name": "Python 3",
   "language": "python",
   "name": "python3"
  },
  "language_info": {
   "codemirror_mode": {
    "name": "ipython",
    "version": 3
   },
   "file_extension": ".py",
   "mimetype": "text/x-python",
   "name": "python",
   "nbconvert_exporter": "python",
   "pygments_lexer": "ipython3",
   "version": "3.9.6"
  }
 },
 "nbformat": 4,
 "nbformat_minor": 4
}
