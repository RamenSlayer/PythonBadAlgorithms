{
 "cells": [
  {
   "cell_type": "code",
   "execution_count": 1,
   "metadata": {},
   "outputs": [],
   "source": [
    "# N, S, W, E, U, D"
   ]
  },
  {
   "cell_type": "code",
   "execution_count": 16,
   "metadata": {},
   "outputs": [],
   "source": [
    "index = [\"N\", \"S\", \"W\", \"E\", \"U\", \"D\"]\n",
    "instr = {'N': None, \"S\": None, \"W\": None, \"E\": None, \"U\": None, \"D\": None}"
   ]
  },
  {
   "cell_type": "code",
   "execution_count": 17,
   "metadata": {},
   "outputs": [
    {
     "name": "stdout",
     "output_type": "stream",
     "text": [
      "N\n",
      "NUSDDUSE\n",
      "UEWWD\n",
      "\n",
      "U\n",
      "WED\n"
     ]
    }
   ],
   "source": [
    "for i in range(6):\n",
    "    tmp = input()\n",
    "    if tmp != \"\\n\" or tmp != \"\":\n",
    "        instr[index[i]] = tmp\n"
   ]
  },
  {
   "cell_type": "code",
   "execution_count": 19,
   "metadata": {},
   "outputs": [
    {
     "name": "stdout",
     "output_type": "stream",
     "text": [
      "S 3\n"
     ]
    }
   ],
   "source": [
    "cmd = input().split()"
   ]
  },
  {
   "cell_type": "code",
   "execution_count": 30,
   "metadata": {},
   "outputs": [],
   "source": [
    "from functools import cache\n",
    "@cache\n",
    "def move(way, step):\n",
    "    global instr\n",
    "    if step <= 1:\n",
    "        return 1\n",
    "    cnt = 1\n",
    "    for d in instr[way]:\n",
    "        cnt += move(d, step - 1)\n",
    "    return cnt"
   ]
  },
  {
   "cell_type": "code",
   "execution_count": 1,
   "metadata": {},
   "outputs": [
    {
     "ename": "NameError",
     "evalue": "name 'move' is not defined",
     "output_type": "error",
     "traceback": [
      "\u001b[1;31m---------------------------------------------------------------------------\u001b[0m",
      "\u001b[1;31mNameError\u001b[0m                                 Traceback (most recent call last)",
      "\u001b[1;32m<ipython-input-1-893435c94d8b>\u001b[0m in \u001b[0;36m<module>\u001b[1;34m\u001b[0m\n\u001b[1;32m----> 1\u001b[1;33m \u001b[0mmove\u001b[0m\u001b[1;33m(\u001b[0m\u001b[1;34m'S'\u001b[0m\u001b[1;33m,\u001b[0m \u001b[1;36m100\u001b[0m\u001b[1;33m)\u001b[0m\u001b[1;33m\u001b[0m\u001b[1;33m\u001b[0m\u001b[0m\n\u001b[0m",
      "\u001b[1;31mNameError\u001b[0m: name 'move' is not defined"
     ]
    }
   ],
   "source": [
    "move('S', 100)"
   ]
  },
  {
   "cell_type": "code",
   "execution_count": null,
   "metadata": {},
   "outputs": [],
   "source": [
    "index = [\"N\", \"S\", \"W\", \"E\", \"U\", \"D\"]\n",
    "instr = {'N': None, \"S\": None, \"W\": None, \"E\": None, \"U\": None, \"D\": None}\n",
    "\n",
    "for i in range(6):\n",
    "    tmp = input()\n",
    "    if tmp != \"\\n\" or tmp != \"\":\n",
    "        instr[index[i]] = tmp\n",
    "\n",
    "cmd = input().split()\n",
    "\n",
    "\n",
    "def move(way, step):\n",
    "    global instr\n",
    "    if step <= 1:\n",
    "        return 1\n",
    "    cnt = 1\n",
    "    for d in instr[way]:\n",
    "        cnt += move(d, step - 1)\n",
    "    return cnt\n",
    "\n",
    "print(move(cmd[0], int(cmd[1])))\n"
   ]
  }
 ],
 "metadata": {
  "kernelspec": {
   "display_name": "Python 3",
   "language": "python",
   "name": "python3"
  },
  "language_info": {
   "codemirror_mode": {
    "name": "ipython",
    "version": 3
   },
   "file_extension": ".py",
   "mimetype": "text/x-python",
   "name": "python",
   "nbconvert_exporter": "python",
   "pygments_lexer": "ipython3",
   "version": "3.9.6"
  }
 },
 "nbformat": 4,
 "nbformat_minor": 4
}
