{
 "cells": [
  {
   "cell_type": "code",
   "execution_count": 4,
   "metadata": {},
   "outputs": [
    {
     "name": "stdout",
     "output_type": "stream",
     "text": [
      "44\n",
      "7\n",
      "5\n",
      "1\n"
     ]
    }
   ],
   "source": [
    "code = int(input())\n",
    "inter = int(input())\n",
    "check = int(input())\n",
    "if inter == 0:\n",
    "    if code != 0:\n",
    "        print(3)\n",
    "    else:\n",
    "        print(check)\n",
    "elif inter == 1:\n",
    "    print(check)\n",
    "elif inter == 4:\n",
    "    if code != 0:\n",
    "        print(3)\n",
    "    else:\n",
    "        print(4)\n",
    "elif inter == 6:\n",
    "    print(0)\n",
    "elif inter == 7:\n",
    "    print(1)\n",
    "else:\n",
    "    print(inter)\n"
   ]
  },
  {
   "cell_type": "raw",
   "metadata": {},
   "source": [
    "Если интерактор выдал вердикт 0, итоговый вердикт равен 3 в случае, если программа завершилась с ненулевым кодом, и вердикту чекера в противном случае.\n",
    "Если интерактор выдал вердикт 1, итоговый вердикт равен вердикту чекера.\n",
    "Если интерактор выдал вердикт 4, итоговый вердикт равен 3 в случае, если программа завершилась с ненулевым кодом, и 4 в противном случае.\n",
    "Если интерактор выдал вердикт 6, итоговый вердикт равен 0.\n",
    "Если интерактор выдал вердикт 7, итоговый вердикт равен 1.\n",
    "В остальных случаях итоговый вердикт равен вердикту интерактора."
   ]
  },
  {
   "cell_type": "raw",
   "metadata": {},
   "source": []
  },
  {
   "cell_type": "code",
   "execution_count": 8,
   "metadata": {},
   "outputs": [],
   "source": [
    "class Stack():\n",
    "    def __init__(self):\n",
    "        self.stack = []\n",
    "        self.Size = 0\n",
    "\n",
    "    def push(self, n):\n",
    "        self.stack.append(n)\n",
    "        self.Size += 1\n",
    "\n",
    "    def pop(self):\n",
    "        self.Size -= 1\n",
    "        return self.stack.pop()\n",
    "\n",
    "    def size(self):\n",
    "        print(self.Size)\n",
    "\n",
    "    def clear(self):\n",
    "        self.stack = []\n",
    "        self.Size = 0\n",
    "\n",
    "    def back(self):\n",
    "        return self.stack[-1]\n",
    "\n",
    "    def __str__(self):\n",
    "        return self.stack"
   ]
  },
  {
   "cell_type": "code",
   "execution_count": 7,
   "metadata": {},
   "outputs": [],
   "source": [
    "class Queue():\n",
    "    def __init__(self):\n",
    "        self.queue = [0, 0, 0]\n",
    "        self.left = -1\n",
    "        self.right = 0\n",
    "        self.length = 3\n",
    "        self.size = 0\n",
    "\n",
    "    def push(self, n):\n",
    "        if self.size < self.length:\n",
    "            if self.right >= self.length:\n",
    "                self.right -= self.length\n",
    "            self.queue[self.right] = n\n",
    "            self.right += 1\n",
    "            if self.right > self.length:\n",
    "                self.right -= self.size\n",
    "            self.size += 1\n",
    "        else:\n",
    "            self.queue.insert(self.right, n)\n",
    "            self.size += 1\n",
    "            self.length += 1\n",
    "            self.left += 1 * int(self.left != -1)\n",
    "            self.right += 1\n",
    "\n",
    "    def pop(self):\n",
    "        if self.size == 0:\n",
    "            print('error')\n",
    "            return\n",
    "        tmp = self.queue[(self.left + 1) * (self.left < (self.length - 1))]\n",
    "        self.queue[(self.left + 1) * (self.left < (self.length - 1))] = 0\n",
    "        self.size -= 1\n",
    "        self.left += 1\n",
    "        if self.left >= self.length:\n",
    "            self.left -= self.length\n",
    "        return tmp\n",
    "\n",
    "\n",
    "    def front(self):\n",
    "        if self.size < 1:\n",
    "            print(\"error\")\n",
    "            return\n",
    "        return self.queue[(self.left + 1) * (self.left < (self.length - 1))]\n",
    "\n",
    "    def Size(self):\n",
    "        return self.size\n",
    "\n",
    "    def clear(self):\n",
    "        self.queue = [0, 0, 0]\n",
    "        self.left = -1\n",
    "        self.right = 0\n",
    "        self.length = 3\n",
    "        self.size = 0\n"
   ]
  },
  {
   "cell_type": "code",
   "execution_count": 16,
   "metadata": {},
   "outputs": [
    {
     "name": "stdout",
     "output_type": "stream",
     "text": [
      "6\n",
      "push 28\n",
      "pop 28\n",
      "push 16\n",
      "push 68\n",
      "pop 68\n",
      "pop 16\n",
      "stack\n"
     ]
    }
   ],
   "source": [
    "q = Queue()\n",
    "s = Stack()\n",
    "right = None\n",
    "for _ in range(int(input())):\n",
    "    cmd, num = input().split()\n",
    "    if cmd == \"push\":\n",
    "        q.push(num)\n",
    "        s.push(num)\n",
    "    elif cmd == \"pop\":\n",
    "        qp, sp = q.pop(), s.pop()\n",
    "        if right is None:\n",
    "            if qp != num:\n",
    "                right = \"stack\"\n",
    "            if sp != num:\n",
    "                right = \"queue\"\n",
    "        elif right == \"stack\":\n",
    "            if sp != num:\n",
    "                right = \"none\"\n",
    "        elif right == \"queue\":\n",
    "            if qp != num:\n",
    "                right = \"none\"\n",
    "\n",
    "if right is None:\n",
    "    print(\"both\")\n",
    "else:\n",
    "    print(right)"
   ]
  },
  {
   "cell_type": "code",
   "execution_count": 13,
   "metadata": {},
   "outputs": [
    {
     "name": "stdout",
     "output_type": "stream",
     "text": [
      "None\n"
     ]
    }
   ],
   "source": [
    "print(right)"
   ]
  },
  {
   "cell_type": "code",
   "execution_count": null,
   "metadata": {},
   "outputs": [],
   "source": [
    "6\n",
    "push 28\n",
    "pop 28\n",
    "push 16\n",
    "push 68\n",
    "pop 68\n",
    "pop 16\n"
   ]
  },
  {
   "cell_type": "code",
   "execution_count": 17,
   "metadata": {},
   "outputs": [
    {
     "name": "stdout",
     "output_type": "stream",
     "text": [
      "6\n",
      "push 46\n",
      "push 52\n",
      "push 31\n",
      "pop 31\n",
      "pop 19\n",
      "pop 46\n",
      "none\n"
     ]
    }
   ],
   "source": [
    "class Stack():\n",
    "    def __init__(self):\n",
    "        self.stack = []\n",
    "        self.Size = 0\n",
    "\n",
    "    def push(self, n):\n",
    "        self.stack.append(n)\n",
    "        self.Size += 1\n",
    "\n",
    "    def pop(self):\n",
    "        self.Size -= 1\n",
    "        return self.stack.pop()\n",
    "\n",
    "    def size(self):\n",
    "        print(self.Size)\n",
    "\n",
    "    def clear(self):\n",
    "        self.stack = []\n",
    "        self.Size = 0\n",
    "\n",
    "    def back(self):\n",
    "        return self.stack[-1]\n",
    "\n",
    "    def __str__(self):\n",
    "        return self.stack\n",
    "\n",
    "class Queue():\n",
    "    def __init__(self):\n",
    "        self.queue = [0, 0, 0]\n",
    "        self.left = -1\n",
    "        self.right = 0\n",
    "        self.length = 3\n",
    "        self.size = 0\n",
    "\n",
    "    def push(self, n):\n",
    "        if self.size < self.length:\n",
    "            if self.right >= self.length:\n",
    "                self.right -= self.length\n",
    "            self.queue[self.right] = n\n",
    "            self.right += 1\n",
    "            if self.right > self.length:\n",
    "                self.right -= self.size\n",
    "            self.size += 1\n",
    "        else:\n",
    "            self.queue.insert(self.right, n)\n",
    "            self.size += 1\n",
    "            self.length += 1\n",
    "            self.left += 1 * int(self.left != -1)\n",
    "            self.right += 1\n",
    "\n",
    "    def pop(self):\n",
    "        if self.size == 0:\n",
    "            print('error')\n",
    "            return\n",
    "        tmp = self.queue[(self.left + 1) * (self.left < (self.length - 1))]\n",
    "        self.queue[(self.left + 1) * (self.left < (self.length - 1))] = 0\n",
    "        self.size -= 1\n",
    "        self.left += 1\n",
    "        if self.left >= self.length:\n",
    "            self.left -= self.length\n",
    "        return tmp\n",
    "\n",
    "\n",
    "    def front(self):\n",
    "        if self.size < 1:\n",
    "            print(\"error\")\n",
    "            return\n",
    "        return self.queue[(self.left + 1) * (self.left < (self.length - 1))]\n",
    "\n",
    "    def Size(self):\n",
    "        return self.size\n",
    "\n",
    "    def clear(self):\n",
    "        self.queue = [0, 0, 0]\n",
    "        self.left = -1\n",
    "        self.right = 0\n",
    "        self.length = 3\n",
    "        self.size = 0\n",
    "\n",
    "q = Queue()\n",
    "s = Stack()\n",
    "right = None\n",
    "for _ in range(int(input())):\n",
    "    cmd, num = input().split()\n",
    "    if cmd == \"push\":\n",
    "        q.push(num)\n",
    "        s.push(num)\n",
    "    elif cmd == \"pop\":\n",
    "        qp, sp = q.pop(), s.pop()\n",
    "        if right is None:\n",
    "            if qp != num and sp != num:\n",
    "                right = \"none\"\n",
    "            elif qp != num:\n",
    "                right = \"stack\"\n",
    "            elif sp != num:\n",
    "                right = \"queue\"\n",
    "        elif right == \"stack\":\n",
    "            if sp != num:\n",
    "                right = \"none\"\n",
    "        elif right == \"queue\":\n",
    "            if qp != num:\n",
    "                right = \"none\"\n",
    "\n",
    "if right is None:\n",
    "    print(\"both\")\n",
    "else:\n",
    "    print(right)\n"
   ]
  },
  {
   "cell_type": "code",
   "execution_count": null,
   "metadata": {},
   "outputs": [],
   "source": [
    "6\n",
    "push 46\n",
    "push 52\n",
    "push 31\n",
    "pop 31\n",
    "pop 19\n",
    "pop 46\n"
   ]
  },
  {
   "cell_type": "code",
   "execution_count": null,
   "metadata": {},
   "outputs": [],
   "source": [
    "# 1 4 9 16 25\n",
    "# 1 8 27 64 125"
   ]
  },
  {
   "cell_type": "code",
   "execution_count": 18,
   "metadata": {},
   "outputs": [
    {
     "data": {
      "text/plain": [
       "64"
      ]
     },
     "execution_count": 18,
     "metadata": {},
     "output_type": "execute_result"
    }
   ],
   "source": [
    "4**3"
   ]
  },
  {
   "cell_type": "code",
   "execution_count": null,
   "metadata": {},
   "outputs": [],
   "source": [
    "# "
   ]
  },
  {
   "cell_type": "code",
   "execution_count": null,
   "metadata": {},
   "outputs": [],
   "source": [
    "# x + x - "
   ]
  },
  {
   "cell_type": "code",
   "execution_count": 73,
   "metadata": {},
   "outputs": [],
   "source": [
    "def thing(n):\n",
    "    tmp = [0]\n",
    "    for i in range(1, n + 1):\n",
    "        tmp.append(i**2)\n",
    "        cube = i**3\n",
    "        if int(cube**0.5) != cube**0.5:\n",
    "            tmp.append(cube)\n",
    "    return sorted(tmp)"
   ]
  },
  {
   "cell_type": "code",
   "execution_count": 145,
   "metadata": {},
   "outputs": [
    {
     "name": "stdout",
     "output_type": "stream",
     "text": [
      "1234567\n",
      "5.240298271179199\n"
     ]
    }
   ],
   "source": [
    "from time import time\n",
    "x = int(input())\n",
    "start = time()\n",
    "thing(x)\n",
    "print(time()-start)"
   ]
  },
  {
   "cell_type": "code",
   "execution_count": 100,
   "metadata": {},
   "outputs": [
    {
     "name": "stdout",
     "output_type": "stream",
     "text": [
      "1\n",
      "1\n"
     ]
    }
   ],
   "source": [
    "def thing(n):\n",
    "    tmp = [0]\n",
    "    for i in range(1, n + 1):\n",
    "        tmp.append(i**2)\n",
    "        cube = i**3\n",
    "        if int(cube**0.5) != cube**0.5:\n",
    "            tmp.append(cube)\n",
    "    return sorted(tmp)\n",
    "\n",
    "x = int(input())\n",
    "print(thing(x)[x])\n"
   ]
  },
  {
   "cell_type": "code",
   "execution_count": 59,
   "metadata": {},
   "outputs": [
    {
     "name": "stdout",
     "output_type": "stream",
     "text": [
      "[0]\n"
     ]
    }
   ],
   "source": [
    "print(thing(1))"
   ]
  },
  {
   "cell_type": "code",
   "execution_count": 143,
   "metadata": {},
   "outputs": [
    {
     "name": "stdout",
     "output_type": "stream",
     "text": [
      "31\n",
      "625 625\n"
     ]
    }
   ],
   "source": [
    "x = int(input())\n",
    "print(thing(x)[x], (x - round(x/5))**2)"
   ]
  },
  {
   "cell_type": "code",
   "execution_count": 113,
   "metadata": {},
   "outputs": [
    {
     "data": {
      "text/plain": [
       "1999001"
      ]
     },
     "execution_count": 113,
     "metadata": {},
     "output_type": "execute_result"
    }
   ],
   "source": [
    "len(thing(1000000))"
   ]
  },
  {
   "cell_type": "code",
   "execution_count": 121,
   "metadata": {},
   "outputs": [
    {
     "data": {
      "text/plain": [
       "5.0"
      ]
     },
     "execution_count": 121,
     "metadata": {},
     "output_type": "execute_result"
    }
   ],
   "source": [
    "x - x/6"
   ]
  },
  {
   "cell_type": "code",
   "execution_count": 126,
   "metadata": {},
   "outputs": [
    {
     "data": {
      "text/plain": [
       "24.0"
      ]
     },
     "execution_count": 126,
     "metadata": {},
     "output_type": "execute_result"
    }
   ],
   "source": [
    "576**0.5"
   ]
  },
  {
   "cell_type": "code",
   "execution_count": 128,
   "metadata": {},
   "outputs": [
    {
     "data": {
      "text/plain": [
       "625"
      ]
     },
     "execution_count": 128,
     "metadata": {},
     "output_type": "execute_result"
    }
   ],
   "source": [
    "25**2"
   ]
  },
  {
   "cell_type": "code",
   "execution_count": 129,
   "metadata": {},
   "outputs": [
    {
     "data": {
      "text/plain": [
       "625"
      ]
     },
     "execution_count": 129,
     "metadata": {},
     "output_type": "execute_result"
    }
   ],
   "source": [
    "(x - x//5)**2"
   ]
  },
  {
   "cell_type": "code",
   "execution_count": 149,
   "metadata": {},
   "outputs": [
    {
     "data": {
      "text/plain": [
       "11"
      ]
     },
     "execution_count": 149,
     "metadata": {},
     "output_type": "execute_result"
    }
   ],
   "source": [
    "n = 2\n",
    "n**2 + n**3 - int(round(n ** (1/3), 5))"
   ]
  },
  {
   "cell_type": "code",
   "execution_count": null,
   "metadata": {},
   "outputs": [],
   "source": []
  }
 ],
 "metadata": {
  "kernelspec": {
   "display_name": "Python 3",
   "language": "python",
   "name": "python3"
  },
  "language_info": {
   "codemirror_mode": {
    "name": "ipython",
    "version": 3
   },
   "file_extension": ".py",
   "mimetype": "text/x-python",
   "name": "python",
   "nbconvert_exporter": "python",
   "pygments_lexer": "ipython3",
   "version": "3.9.6"
  }
 },
 "nbformat": 4,
 "nbformat_minor": 4
}
