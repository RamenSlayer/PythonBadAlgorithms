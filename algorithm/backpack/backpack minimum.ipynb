{
 "cells": [
  {
   "cell_type": "code",
   "execution_count": null,
   "metadata": {},
   "outputs": [],
   "source": [
    "n = int(input())\n",
    "hh = [] #height, hands\n",
    "for _ in range(n):\n",
    "    hh.append(tuple(map(int, input().split())))\n",
    "hh.sort(key = lambda x: x[0])"
   ]
  },
  {
   "cell_type": "code",
   "execution_count": null,
   "metadata": {},
   "outputs": [],
   "source": []
  },
  {
   "cell_type": "code",
   "execution_count": null,
   "metadata": {},
   "outputs": [],
   "source": [
    "pw = [1] + [0] * m\n",
    "for weight in weights:\n",
    "    for i in range(m, -1, -1):\n",
    "        if pw[i] == 1:\n",
    "            tmp = i + weight\n",
    "            if tmp <= m:\n",
    "                pw[tmp] = 1\n",
    "\n",
    "for i, pos in enumerate(pw[::-1]):\n",
    "    if pos == 1:\n",
    "        print(m - i)\n",
    "        break\n"
   ]
  }
 ],
 "metadata": {
  "kernelspec": {
   "display_name": "Python 3",
   "language": "python",
   "name": "python3"
  },
  "language_info": {
   "codemirror_mode": {
    "name": "ipython",
    "version": 3
   },
   "file_extension": ".py",
   "mimetype": "text/x-python",
   "name": "python",
   "nbconvert_exporter": "python",
   "pygments_lexer": "ipython3",
   "version": "3.9.6"
  }
 },
 "nbformat": 4,
 "nbformat_minor": 4
}
