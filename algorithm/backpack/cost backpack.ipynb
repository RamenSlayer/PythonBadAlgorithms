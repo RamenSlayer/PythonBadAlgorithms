{
 "cells": [
  {
   "cell_type": "code",
   "execution_count": 1,
   "metadata": {},
   "outputs": [],
   "source": [
    "from copy import copy"
   ]
  },
  {
   "cell_type": "code",
   "execution_count": 2,
   "metadata": {},
   "outputs": [
    {
     "name": "stdout",
     "output_type": "stream",
     "text": [
      "2 789\n"
     ]
    }
   ],
   "source": [
    "n, m = map(int, input().split())"
   ]
  },
  {
   "cell_type": "code",
   "execution_count": 3,
   "metadata": {},
   "outputs": [
    {
     "name": "stdout",
     "output_type": "stream",
     "text": [
      "45 44\n",
      "51 41\n"
     ]
    }
   ],
   "source": [
    "weights = map(int, input().split())\n",
    "costs = map(int, input().split())\n",
    "wc = list(zip(weights, costs))"
   ]
  },
  {
   "cell_type": "code",
   "execution_count": 4,
   "metadata": {},
   "outputs": [],
   "source": [
    "pos = [[0] + [None] * m]"
   ]
  },
  {
   "cell_type": "code",
   "execution_count": 5,
   "metadata": {},
   "outputs": [
    {
     "name": "stdout",
     "output_type": "stream",
     "text": [
      "45\n",
      "89\n",
      "44\n"
     ]
    }
   ],
   "source": [
    "for index, th in enumerate(wc):\n",
    "    weight, cost = th\n",
    "    pos.append(copy(pos[index]))\n",
    "    i = index + 1\n",
    "    for j in range(m, -1, -1):\n",
    "        if (pos[index][j] is not None) and (pos[index][j] >= 0):\n",
    "            tmp = j + weight\n",
    "#             print(tmp)\n",
    "            if tmp <= m:\n",
    "                csum = pos[index][j] + cost\n",
    "                if (pos[index][tmp] is None) or (csum > pos[index][tmp]):\n",
    "                    pos[i][tmp] = csum\n"
   ]
  },
  {
   "cell_type": "code",
   "execution_count": 6,
   "metadata": {},
   "outputs": [],
   "source": [
    "def wfilter(x):\n",
    "    if x is None:\n",
    "        return -float('inf')\n",
    "    return x"
   ]
  },
  {
   "cell_type": "code",
   "execution_count": 7,
   "metadata": {},
   "outputs": [
    {
     "name": "stdout",
     "output_type": "stream",
     "text": [
      "92\n"
     ]
    }
   ],
   "source": [
    "print(max(max(pos, key = lambda x: max(x, key = lambda y: wfilter(y))), key = lambda x: wfilter(x)))"
   ]
  },
  {
   "cell_type": "code",
   "execution_count": 8,
   "metadata": {},
   "outputs": [
    {
     "name": "stdout",
     "output_type": "stream",
     "text": [
      "3 10\n",
      "9 7 3\n",
      "20 15 30\n",
      "45\n",
      "None\n"
     ]
    }
   ],
   "source": [
    "from copy import copy\n",
    "\n",
    "\n",
    "n, m = map(int, input().split())\n",
    "weights = map(int, input().split())\n",
    "costs = map(int, input().split())\n",
    "wc = list(zip(weights, costs))\n",
    "pos = [[0] + [None] * m]\n",
    "\n",
    "for index, th in enumerate(wc):\n",
    "    weight, cost = th\n",
    "    pos.append(copy(pos[index]))\n",
    "    i = index + 1\n",
    "    for j in range(m, -1, -1):\n",
    "        if (pos[index][j] is not None) and (pos[index][j] >= 0):\n",
    "            tmp = j + weight\n",
    "            if tmp <= m:\n",
    "                csum = pos[index][j] + cost\n",
    "                if (pos[index][tmp] is None) or (csum > pos[index][tmp]):\n",
    "                    pos[i][tmp] = csum\n",
    "#\n",
    "\n",
    "\n",
    "def wfilter(x):\n",
    "    if x is None:\n",
    "        return -float('inf')\n",
    "    return x\n",
    "\n",
    "tmp = max(pos, key=lambda x: max(x, key=lambda y: wfilter(y)))\n",
    "print(max(tmp, key=lambda x: wfilter(x)))\n"
   ]
  },
  {
   "cell_type": "code",
   "execution_count": null,
   "metadata": {},
   "outputs": [],
   "source": []
  }
 ],
 "metadata": {
  "kernelspec": {
   "display_name": "Python 3",
   "language": "python",
   "name": "python3"
  },
  "language_info": {
   "codemirror_mode": {
    "name": "ipython",
    "version": 3
   },
   "file_extension": ".py",
   "mimetype": "text/x-python",
   "name": "python",
   "nbconvert_exporter": "python",
   "pygments_lexer": "ipython3",
   "version": "3.9.6"
  }
 },
 "nbformat": 4,
 "nbformat_minor": 4
}
