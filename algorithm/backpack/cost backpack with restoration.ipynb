{
 "cells": [
  {
   "cell_type": "code",
   "execution_count": 1,
   "metadata": {},
   "outputs": [],
   "source": [
    "from copy import copy"
   ]
  },
  {
   "cell_type": "code",
   "execution_count": 2,
   "metadata": {},
   "outputs": [
    {
     "name": "stdout",
     "output_type": "stream",
     "text": [
      "3 10\n"
     ]
    }
   ],
   "source": [
    "n, m = map(int, input().split())"
   ]
  },
  {
   "cell_type": "code",
   "execution_count": 3,
   "metadata": {},
   "outputs": [
    {
     "name": "stdout",
     "output_type": "stream",
     "text": [
      "9 3 5\n",
      "20 11 13\n"
     ]
    }
   ],
   "source": [
    "weights = list(map(int, input().split()))\n",
    "costs = map(int, input().split())\n",
    "wc = list(zip(weights, costs))"
   ]
  },
  {
   "cell_type": "code",
   "execution_count": 4,
   "metadata": {},
   "outputs": [],
   "source": [
    "pos = [[(0, 0)] + [None] * m]"
   ]
  },
  {
   "cell_type": "code",
   "execution_count": 5,
   "metadata": {},
   "outputs": [],
   "source": [
    "M = (0, 0)\n",
    "for index, th in enumerate(wc):\n",
    "    weight, cost = th\n",
    "    pos.append(copy(pos[index]))\n",
    "    i = index + 1\n",
    "    for j in range(m, -1, -1):\n",
    "        if (pos[index][j] is not None) and (pos[index][j][0] >= 0):\n",
    "            tmp = j + weight\n",
    "#             print(tmp)\n",
    "            if tmp <= m:\n",
    "                csum = pos[index][j][0] + cost\n",
    "                if (pos[index][tmp] is None) or (csum > pos[index][tmp][0]):\n",
    "                    pos[i][tmp] = (csum, i)\n",
    "                    if csum > M[0]:\n",
    "                        M = (csum, i)"
   ]
  },
  {
   "cell_type": "code",
   "execution_count": 6,
   "metadata": {},
   "outputs": [
    {
     "name": "stdout",
     "output_type": "stream",
     "text": [
      "[[(0, 0), None, None, None, None, None, None, None, None, None, None], [(0, 0), None, None, None, None, None, None, None, None, (20, 1), None], [(0, 0), None, None, (11, 2), None, None, None, None, None, (20, 1), None], [(0, 0), None, None, (11, 2), None, (13, 3), None, None, (24, 3), (20, 1), None]]\n"
     ]
    }
   ],
   "source": [
    "print(pos)"
   ]
  },
  {
   "cell_type": "code",
   "execution_count": 7,
   "metadata": {},
   "outputs": [
    {
     "name": "stdout",
     "output_type": "stream",
     "text": [
      "(24, 3)\n"
     ]
    }
   ],
   "source": [
    "print(M)"
   ]
  },
  {
   "cell_type": "code",
   "execution_count": 8,
   "metadata": {},
   "outputs": [],
   "source": [
    "order = []\n",
    "stop = False\n",
    "for weight, elem in enumerate(pos[M[1]]):\n",
    "    if stop:\n",
    "        break\n",
    "    if (elem is not None) and (elem[0] == M[0]):\n",
    "        stop = True\n",
    "        while weight != 0:\n",
    "            order.append(pos[M[1]][weight][1])\n",
    "            weight = weight - weights[order[-1] - 1]"
   ]
  },
  {
   "cell_type": "code",
   "execution_count": 11,
   "metadata": {},
   "outputs": [
    {
     "name": "stdout",
     "output_type": "stream",
     "text": [
      "2 3\n"
     ]
    }
   ],
   "source": [
    "for elem in order[::-1]:\n",
    "    print(elem)"
   ]
  },
  {
   "cell_type": "code",
   "execution_count": 27,
   "metadata": {},
   "outputs": [
    {
     "name": "stdout",
     "output_type": "stream",
     "text": [
      "1 3\n",
      "3\n",
      "10\n",
      "1\n"
     ]
    }
   ],
   "source": [
    "from copy import copy\n",
    "\n",
    "\n",
    "n, m = map(int, input().split())\n",
    "\n",
    "weights = list(map(int, input().split()))\n",
    "costs = map(int, input().split())\n",
    "wc = list(zip(weights, costs))\n",
    "\n",
    "pos = [[(0, 0)] + [None] * m]\n",
    "\n",
    "M = (0, 0)\n",
    "for index, th in enumerate(wc):\n",
    "    weight, cost = th\n",
    "    pos.append(copy(pos[index]))\n",
    "    i = index + 1\n",
    "    for j in range(m, -1, -1):\n",
    "        if (pos[index][j] is not None) and (pos[index][j][0] >= 0):\n",
    "            tmp = j + weight\n",
    "            if tmp <= m:\n",
    "                csum = pos[index][j][0] + cost\n",
    "                if (pos[index][tmp] is None) or (csum > pos[index][tmp][0]):\n",
    "                    pos[i][tmp] = (csum, i)\n",
    "                    if csum > M[0]:\n",
    "                        M = (csum, i)\n",
    "\n",
    "\n",
    "order = []\n",
    "stop = False\n",
    "for weight, elem in enumerate(pos[M[1]]):\n",
    "    if stop:\n",
    "        break\n",
    "    if (elem is not None) and (elem[0] == M[0]):\n",
    "        stop = True\n",
    "        while weight != 0:\n",
    "            order.append(pos[M[1]][weight][1])\n",
    "            weight = weight - weights[order[-1] - 1]\n",
    "\n",
    "\n",
    "for elem in order[::-1]:\n",
    "    print(elem)\n"
   ]
  },
  {
   "cell_type": "code",
   "execution_count": null,
   "metadata": {},
   "outputs": [],
   "source": []
  }
 ],
 "metadata": {
  "kernelspec": {
   "display_name": "Python 3",
   "language": "python",
   "name": "python3"
  },
  "language_info": {
   "codemirror_mode": {
    "name": "ipython",
    "version": 3
   },
   "file_extension": ".py",
   "mimetype": "text/x-python",
   "name": "python",
   "nbconvert_exporter": "python",
   "pygments_lexer": "ipython3",
   "version": "3.9.6"
  }
 },
 "nbformat": 4,
 "nbformat_minor": 4
}
