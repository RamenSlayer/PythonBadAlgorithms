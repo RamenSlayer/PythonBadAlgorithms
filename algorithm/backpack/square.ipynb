{
 "cells": [
  {
   "cell_type": "code",
   "execution_count": 6,
   "metadata": {},
   "outputs": [
    {
     "name": "stdout",
     "output_type": "stream",
     "text": [
      "3 2 1\n"
     ]
    }
   ],
   "source": [
    "n, k, s = map(int, input().split())"
   ]
  },
  {
   "cell_type": "code",
   "execution_count": 7,
   "metadata": {},
   "outputs": [],
   "source": [
    "def pgen(size, req):\n",
    "    tmp = [[0 for i in range(size)] for j in range(size)]\n",
    "    cnt = 0\n",
    "    for i in range(size):\n",
    "        for j in range(size):\n",
    "            tmp[i][j] = 1\n",
    "            cnt += 1\n",
    "            if cnt >= req:\n",
    "                break\n",
    "        if cnt >= req:\n",
    "            break\n",
    "    return tmp"
   ]
  },
  {
   "cell_type": "code",
   "execution_count": 8,
   "metadata": {},
   "outputs": [],
   "source": [
    "pat = pgen(k, s)"
   ]
  },
  {
   "cell_type": "code",
   "execution_count": 15,
   "metadata": {},
   "outputs": [],
   "source": [
    "def ftb(size, ptn, pts):\n",
    "    tmp = [[0 for i in range(size)] for j in range(size)]\n",
    "    for i in range(size):\n",
    "        for j in range(size):\n",
    "            tmp[i][j] = ptn[i % pts][j % pts]\n",
    "    return tmp"
   ]
  },
  {
   "cell_type": "code",
   "execution_count": 16,
   "metadata": {},
   "outputs": [],
   "source": [
    "out = ftb(n, pat, k)"
   ]
  },
  {
   "cell_type": "code",
   "execution_count": 17,
   "metadata": {},
   "outputs": [
    {
     "name": "stdout",
     "output_type": "stream",
     "text": [
      "1 0 1\n",
      "0 0 0\n",
      "1 0 1\n"
     ]
    }
   ],
   "source": [
    "for line in out:\n",
    "    print(*line)"
   ]
  },
  {
   "cell_type": "code",
   "execution_count": 12,
   "metadata": {},
   "outputs": [
    {
     "name": "stdout",
     "output_type": "stream",
     "text": [
      "[[1, 0], [0, 0]]\n"
     ]
    }
   ],
   "source": [
    "print(pat)"
   ]
  },
  {
   "cell_type": "code",
   "execution_count": 14,
   "metadata": {},
   "outputs": [
    {
     "data": {
      "text/plain": [
       "0"
      ]
     },
     "execution_count": 14,
     "metadata": {},
     "output_type": "execute_result"
    }
   ],
   "source": [
    "2%2"
   ]
  },
  {
   "cell_type": "code",
   "execution_count": 21,
   "metadata": {},
   "outputs": [
    {
     "name": "stdout",
     "output_type": "stream",
     "text": [
      "1 1 0\n",
      "1\n"
     ]
    }
   ],
   "source": [
    "n, k, s = map(int, input().split())\n",
    "\n",
    "\n",
    "def pgen(size, req):\n",
    "    tmp = [[0 for i in range(size)] for j in range(size)]\n",
    "    cnt = 0\n",
    "    for i in range(size):\n",
    "        for j in range(size):\n",
    "            if cnt >= req:\n",
    "                break\n",
    "            tmp[i][j] = 1\n",
    "            cnt += 1\n",
    "        if cnt >= req:\n",
    "            break\n",
    "    return tmp\n",
    "\n",
    "pat = pgen(k, s)\n",
    "\n",
    "\n",
    "def ftb(size, ptn, pts):\n",
    "    tmp = [[0 for i in range(size)] for j in range(size)]\n",
    "    for i in range(size):\n",
    "        for j in range(size):\n",
    "            tmp[i][j] = ptn[i % pts][j % pts]\n",
    "    return tmp\n",
    "\n",
    "out = ftb(n, pat, k)\n",
    "\n",
    "for line in out:\n",
    "    print(*line)\n"
   ]
  },
  {
   "cell_type": "code",
   "execution_count": null,
   "metadata": {},
   "outputs": [],
   "source": []
  }
 ],
 "metadata": {
  "kernelspec": {
   "display_name": "Python 3",
   "language": "python",
   "name": "python3"
  },
  "language_info": {
   "codemirror_mode": {
    "name": "ipython",
    "version": 3
   },
   "file_extension": ".py",
   "mimetype": "text/x-python",
   "name": "python",
   "nbconvert_exporter": "python",
   "pygments_lexer": "ipython3",
   "version": "3.9.6"
  }
 },
 "nbformat": 4,
 "nbformat_minor": 4
}
