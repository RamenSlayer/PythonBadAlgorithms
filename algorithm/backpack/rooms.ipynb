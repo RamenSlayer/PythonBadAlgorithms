{
 "cells": [
  {
   "cell_type": "code",
   "execution_count": 21,
   "metadata": {},
   "outputs": [
    {
     "name": "stdout",
     "output_type": "stream",
     "text": [
      "1 1\n",
      "1\n",
      "2\n"
     ]
    }
   ],
   "source": [
    "n, m = map(int, input().split())\n",
    "groups = []\n",
    "rooms = []\n",
    "for _ in range(n):\n",
    "    tmp = int(input())\n",
    "    groups.append(tmp)\n",
    "for _ in range(m):\n",
    "    tmp = int(input())\n",
    "    rooms.append([tmp, 0])"
   ]
  },
  {
   "cell_type": "code",
   "execution_count": 22,
   "metadata": {},
   "outputs": [],
   "source": [
    "def fmr(n):\n",
    "    global rooms\n",
    "    tmp = float('inf')\n",
    "    for i, space in enumerate(rooms):\n",
    "        if space[0] >= (n + 1) and space[1] == 0:\n",
    "            if tmp == float('inf') or space[0] < tmp[0]:\n",
    "                tmp = (space, i)\n",
    "    if tmp != float('inf'):\n",
    "        return tmp\n",
    "    return None"
   ]
  },
  {
   "cell_type": "code",
   "execution_count": 23,
   "metadata": {},
   "outputs": [
    {
     "name": "stdout",
     "output_type": "stream",
     "text": [
      "1\n",
      "1\n"
     ]
    }
   ],
   "source": [
    "cnt = 0\n",
    "ass = []\n",
    "for group in groups:\n",
    "    tmp = fmr(group)\n",
    "    if tmp is None:\n",
    "        ass.append(0)\n",
    "        continue\n",
    "    cnt += 1\n",
    "    rooms[tmp[1]][1] = 1\n",
    "    ass.append(tmp[1] + 1)\n",
    "print(cnt)\n",
    "for i in ass:\n",
    "    print(i)"
   ]
  },
  {
   "cell_type": "code",
   "execution_count": 14,
   "metadata": {},
   "outputs": [
    {
     "data": {
      "text/plain": [
       "1"
      ]
     },
     "execution_count": 14,
     "metadata": {},
     "output_type": "execute_result"
    }
   ],
   "source": [
    "bfind(rooms, 1+1)"
   ]
  },
  {
   "cell_type": "code",
   "execution_count": 9,
   "metadata": {},
   "outputs": [
    {
     "name": "stdout",
     "output_type": "stream",
     "text": [
      "[1] [(2, 0)]\n"
     ]
    }
   ],
   "source": [
    "print(groups, rooms)"
   ]
  },
  {
   "cell_type": "code",
   "execution_count": null,
   "metadata": {},
   "outputs": [],
   "source": [
    "n, m = map(int, input().split())\n",
    "groups = []\n",
    "rooms = []\n",
    "for _ in range(n):\n",
    "    tmp = int(input())\n",
    "    groups.append(tmp)\n",
    "for _ in range(m):\n",
    "    tmp = int(input())\n",
    "    rooms.append([tmp, 0])\n",
    "\n",
    "\n",
    "def fmr(n):\n",
    "    global rooms\n",
    "    tmp = float('inf')\n",
    "    for i, space in enumerate(rooms):\n",
    "        if space[0] >= (n + 1) and space[1] == 0:\n",
    "            if tmp == float('inf') or space[0] < tmp[0]:\n",
    "                tmp = (space, i)\n",
    "    if tmp != float('inf'):\n",
    "        return tmp\n",
    "    return None\n",
    "\n",
    "cnt = 0\n",
    "ass = []\n",
    "for group in groups:\n",
    "    tmp = fmr(group)\n",
    "    if tmp is None:\n",
    "        ass.append(0)\n",
    "        continue\n",
    "    cnt += 1\n",
    "    rooms[tmp[1]][1] = 1\n",
    "    ass.append(tmp[1] + 1)\n",
    "print(cnt)\n",
    "for i in ass:\n",
    "    print(i)\n"
   ]
  }
 ],
 "metadata": {
  "kernelspec": {
   "display_name": "Python 3",
   "language": "python",
   "name": "python3"
  },
  "language_info": {
   "codemirror_mode": {
    "name": "ipython",
    "version": 3
   },
   "file_extension": ".py",
   "mimetype": "text/x-python",
   "name": "python",
   "nbconvert_exporter": "python",
   "pygments_lexer": "ipython3",
   "version": "3.9.6"
  }
 },
 "nbformat": 4,
 "nbformat_minor": 4
}
