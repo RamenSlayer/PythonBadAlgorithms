{
 "cells": [
  {
   "cell_type": "code",
   "execution_count": 5,
   "metadata": {},
   "outputs": [
    {
     "name": "stdout",
     "output_type": "stream",
     "text": [
      "1\n",
      "0\n",
      "a\n",
      "a\n",
      "a\n"
     ]
    }
   ],
   "source": [
    "forum = []\n",
    "index = []\n",
    "pid = 1\n",
    "n = int(input())\n",
    "\n",
    "for i in range(n):\n",
    "    tmp = int(input())\n",
    "    if tmp == 0:\n",
    "        pname = input()\n",
    "        pcont = input()\n",
    "        forum.append((pid,))\n",
    "        index.append(pname)\n",
    "    else:\n",
    "        forum.append((*forum[tmp - 1], pid))\n",
    "        msg = input()\n",
    "    pid += 1\n",
    "\n",
    "count = {}\n",
    "for i in forum:\n",
    "    if i[0] in count:\n",
    "        count[i[0]] += 1\n",
    "    else:\n",
    "        count[i[0]] = 1\n",
    "if n > 0:\n",
    "    m = (1, count[1])\n",
    "    for i in count:\n",
    "        if count[i] > m[1]:\n",
    "            m = (i, count[i])\n",
    "    print(index[m[0] - 1])\n"
   ]
  },
  {
   "cell_type": "code",
   "execution_count": null,
   "metadata": {},
   "outputs": [],
   "source": [
    "7\n",
    "0\n",
    "Олимпиада по информатике\n",
    "Скоро третья командная олимпиада?\n",
    "0\n",
    "Новая компьютерная игра\n",
    "Вышла новая крутая игра!\n",
    "1\n",
    "Она пройдет 24 ноября\n",
    "1\n",
    "В Санкт-Петербурге и Барнауле\n",
    "2\n",
    "Где найти?\n",
    "4\n",
    "Примет участие более 50 команд\n",
    "6\n",
    "Интересно, какие будут задачи\n"
   ]
  },
  {
   "cell_type": "code",
   "execution_count": 30,
   "metadata": {},
   "outputs": [
    {
     "name": "stdout",
     "output_type": "stream",
     "text": [
      "(2, 2)\n"
     ]
    }
   ],
   "source": [
    "print(m)"
   ]
  },
  {
   "cell_type": "raw",
   "metadata": {},
   "source": [
    "4\n",
    "0\n",
    "Post\n",
    "cont\n",
    "1\n",
    "ans\n",
    "1\n",
    "ans\n",
    "2\n",
    "qst\n",
    "0\n",
    "Post2\n",
    "cont"
   ]
  },
  {
   "cell_type": "code",
   "execution_count": null,
   "metadata": {},
   "outputs": [],
   "source": []
  }
 ],
 "metadata": {
  "kernelspec": {
   "display_name": "Python 3",
   "language": "python",
   "name": "python3"
  },
  "language_info": {
   "codemirror_mode": {
    "name": "ipython",
    "version": 3
   },
   "file_extension": ".py",
   "mimetype": "text/x-python",
   "name": "python",
   "nbconvert_exporter": "python",
   "pygments_lexer": "ipython3",
   "version": "3.9.6"
  }
 },
 "nbformat": 4,
 "nbformat_minor": 4
}
