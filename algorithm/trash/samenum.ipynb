{
 "cells": [
  {
   "cell_type": "code",
   "execution_count": 21,
   "metadata": {},
   "outputs": [
    {
     "name": "stdout",
     "output_type": "stream",
     "text": [
      "657382561\n",
      "\n",
      "-1\n"
     ]
    }
   ],
   "source": [
    "a = input()\n",
    "b = input()\n",
    "sib = sorted(set(a).intersection(set(b)))\n",
    "cnta = {}\n",
    "for letter in a:\n",
    "    if letter in sib:\n",
    "        if letter in cnta:\n",
    "            cnta[letter] += 1\n",
    "        else:\n",
    "            cnta[letter] = 1\n",
    "cntb = {}\n",
    "for letter in b:\n",
    "    if letter in sib:\n",
    "        if letter in cntb:\n",
    "            cntb[letter] += 1\n",
    "        else:\n",
    "            cntb[letter] = 1\n",
    "tmp = \"\"\n",
    "for sign in sib[::-1]:\n",
    "    tmp += sign * min((cnta[sign], cntb[sign]))\n",
    "if tmp != \"\":\n",
    "    print(tmp)\n",
    "else:\n",
    "    print(-1)"
   ]
  },
  {
   "cell_type": "code",
   "execution_count": null,
   "metadata": {},
   "outputs": [],
   "source": [
    "280138\n",
    "798081\n",
    "\n",
    "123\n",
    "456\n"
   ]
  },
  {
   "cell_type": "code",
   "execution_count": 4,
   "metadata": {},
   "outputs": [
    {
     "name": "stdout",
     "output_type": "stream",
     "text": [
      "{'2': 1, '8': 2, '0': 1, '1': 1, '3': 1}\n"
     ]
    }
   ],
   "source": [
    "print(cntb)"
   ]
  },
  {
   "cell_type": "code",
   "execution_count": null,
   "metadata": {},
   "outputs": [],
   "source": []
  }
 ],
 "metadata": {
  "kernelspec": {
   "display_name": "Python 3",
   "language": "python",
   "name": "python3"
  },
  "language_info": {
   "codemirror_mode": {
    "name": "ipython",
    "version": 3
   },
   "file_extension": ".py",
   "mimetype": "text/x-python",
   "name": "python",
   "nbconvert_exporter": "python",
   "pygments_lexer": "ipython3",
   "version": "3.9.6"
  }
 },
 "nbformat": 4,
 "nbformat_minor": 4
}
