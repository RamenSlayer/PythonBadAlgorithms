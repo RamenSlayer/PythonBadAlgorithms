{
 "cells": [
  {
   "cell_type": "code",
   "execution_count": 29,
   "metadata": {},
   "outputs": [],
   "source": [
    "def vcount(cnts):\n",
    "    vis = []\n",
    "    for i in range(max(cnts)):\n",
    "        vis.append([])\n",
    "        for j, cnt in enumerate(cnts):\n",
    "            if cnt >= i + 1:\n",
    "                vis[i].append(\"#\")\n",
    "            else:\n",
    "                vis[i].append(\" \")\n",
    "    return vis[::-1]\n"
   ]
  },
  {
   "cell_type": "code",
   "execution_count": 36,
   "metadata": {},
   "outputs": [],
   "source": [
    "def count(s):\n",
    "    cnt = {}\n",
    "    for ltr in s:\n",
    "        if ltr != \" \":\n",
    "            if ltr in cnt:\n",
    "                cnt[ltr] += 1\n",
    "            else:\n",
    "                cnt[ltr] = 1\n",
    "    return sorted(zip(cnt.keys(), cnt.values()), key=lambda x: x[0])"
   ]
  },
  {
   "cell_type": "code",
   "execution_count": 38,
   "metadata": {},
   "outputs": [
    {
     "name": "stdout",
     "output_type": "stream",
     "text": [
      "Twas brillig, and the slithy toves Did gyre and gimble in the wabe; All mimsy were the borogoves, And the mome raths outgrabe.\n",
      "         #              \n",
      "         #              \n",
      "         #              \n",
      "         #              \n",
      "         #              \n",
      "         #         #    \n",
      "         #  #      #    \n",
      "      #  # ###  ####    \n",
      "      ## ###### ####    \n",
      "      ##############    \n",
      "      ##############  ##\n",
      "#  #  ############## ###\n",
      "########################\n",
      ",.;ADTabdeghilmnorstuvwy\n"
     ]
    }
   ],
   "source": [
    "ltrs = count(input())\n",
    "vis = vcount(list(map(lambda x: x[1], ltrs)))\n",
    "for i in vis:\n",
    "    print(\"\".join(i))\n",
    "print(\"\".join(map(lambda x: x[0], ltrs)))"
   ]
  },
  {
   "cell_type": "code",
   "execution_count": 110,
   "metadata": {
    "scrolled": true
   },
   "outputs": [
    {
     "name": "stdout",
     "output_type": "stream",
     "text": [
      "\n"
     ]
    }
   ],
   "source": [
    "def count(s):\n",
    "    cnt = {}\n",
    "    for ltr in s:\n",
    "        if ltr != \" \" and ltr != \"\\n\" and ltr != \"\\t\":\n",
    "            if ltr in cnt:\n",
    "                cnt[ltr] += 1\n",
    "            else:\n",
    "                cnt[ltr] = 1\n",
    "    return sorted(zip(cnt.keys(), cnt.values()), key=lambda x: x[0])\n",
    "\n",
    "\n",
    "def vcount(cnts):\n",
    "    vis = []\n",
    "    if cnts == []:\n",
    "        return []\n",
    "    for i in range(max(cnts)):\n",
    "        vis.append([])\n",
    "        for j, cnt in enumerate(cnts):\n",
    "            if cnt >= i + 1:\n",
    "                vis[i].append(\"#\")\n",
    "            else:\n",
    "                vis[i].append(\" \")\n",
    "    return vis[::-1]\n",
    "\n",
    "\n",
    "inp = input()\n",
    "\n",
    "ltrs = count(inp)\n",
    "vis = vcount(list(map(lambda x: x[1], ltrs)))\n",
    "if len(inp) > 0:\n",
    "    for i in vis:\n",
    "        print(\"\".join(i))\n",
    "    print(\"\".join(map(lambda x: x[0], ltrs)))\n"
   ]
  },
  {
   "cell_type": "code",
   "execution_count": null,
   "metadata": {},
   "outputs": [],
   "source": [
    "     #   \n",
    "     ##  \n",
    "#########\n",
    "!,Hdelorw"
   ]
  },
  {
   "cell_type": "code",
   "execution_count": 92,
   "metadata": {},
   "outputs": [
    {
     "data": {
      "text/plain": [
       "[('\\t', 1)]"
      ]
     },
     "execution_count": 92,
     "metadata": {},
     "output_type": "execute_result"
    }
   ],
   "source": [
    "count(\"\\t\")"
   ]
  },
  {
   "cell_type": "code",
   "execution_count": 93,
   "metadata": {},
   "outputs": [
    {
     "name": "stdout",
     "output_type": "stream",
     "text": [
      "\t\n"
     ]
    }
   ],
   "source": [
    "print(\"\\t\")"
   ]
  },
  {
   "cell_type": "code",
   "execution_count": null,
   "metadata": {},
   "outputs": [],
   "source": []
  }
 ],
 "metadata": {
  "kernelspec": {
   "display_name": "Python 3",
   "language": "python",
   "name": "python3"
  },
  "language_info": {
   "codemirror_mode": {
    "name": "ipython",
    "version": 3
   },
   "file_extension": ".py",
   "mimetype": "text/x-python",
   "name": "python",
   "nbconvert_exporter": "python",
   "pygments_lexer": "ipython3",
   "version": "3.9.6"
  }
 },
 "nbformat": 4,
 "nbformat_minor": 4
}
