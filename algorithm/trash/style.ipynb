{
 "cells": [
  {
   "cell_type": "code",
   "execution_count": 35,
   "metadata": {},
   "outputs": [],
   "source": [
    "def sqrn(l, n=None):\n",
    "    if n is None:\n",
    "        n= len(l)\n",
    "    m = sum(l) / n\n",
    "    return (sum(map(lambda x: (x - m)**2, l)) / n)**0.5"
   ]
  },
  {
   "cell_type": "code",
   "execution_count": 36,
   "metadata": {},
   "outputs": [],
   "source": [
    "def fcombs(a, b, c, d):\n",
    "    tmp = []\n",
    "    for i in a:\n",
    "        for j in b:\n",
    "            for k in c:\n",
    "                for l in d:\n",
    "                    tmp.append((i, j, k, l))\n",
    "    return tmp\n"
   ]
  },
  {
   "cell_type": "code",
   "execution_count": 37,
   "metadata": {},
   "outputs": [],
   "source": [
    "def msd(l, n=None):\n",
    "    if n is None:\n",
    "        n = len(l)\n",
    "    mec = (l[0], sqrn(l[0]))\n",
    "    for comb in l:\n",
    "        tmp = sqrn(comb)\n",
    "        if tmp < mec[1]:\n",
    "            mec = (comb, tmp)\n",
    "    return mec"
   ]
  },
  {
   "cell_type": "code",
   "execution_count": 38,
   "metadata": {},
   "outputs": [
    {
     "name": "stdout",
     "output_type": "stream",
     "text": [
      "1 1 1 2\n"
     ]
    }
   ],
   "source": [
    "a = [1, 2, 3]\n",
    "b = [1, 3]\n",
    "c = [1, 4]\n",
    "d = [2, 3]\n",
    "print(*msd(fcombs(a, b, c, d))[0])"
   ]
  },
  {
   "cell_type": "code",
   "execution_count": 39,
   "metadata": {},
   "outputs": [],
   "source": [
    "from random import random, choice\n",
    "def rgm(n): #randomly generated mass\n",
    "    tmp = []\n",
    "    sizes = [1, 10, 100, 1000, 10000, 100000, 1000000, 10000000]\n",
    "    for _ in range(n):\n",
    "        tmp.append(round(random() * choice(sizes)) + 1)\n",
    "    return tmp"
   ]
  },
  {
   "cell_type": "code",
   "execution_count": 41,
   "metadata": {},
   "outputs": [
    {
     "name": "stdout",
     "output_type": "stream",
     "text": [
      "100\n",
      "586.1442153453827\n",
      "((3, 3, 3, 3), 0.0)\n"
     ]
    }
   ],
   "source": [
    "from time import time\n",
    "n = int(input())\n",
    "a = rgm(n)\n",
    "b = rgm(n)\n",
    "c = rgm(n)\n",
    "d = rgm(n)\n",
    "\n",
    "start = time()\n",
    "tmp = msd(fcombs(a, b, c, d))\n",
    "print(time() - start)\n",
    "print(tmp)"
   ]
  },
  {
   "cell_type": "code",
   "execution_count": null,
   "metadata": {},
   "outputs": [],
   "source": []
  }
 ],
 "metadata": {
  "kernelspec": {
   "display_name": "Python 3",
   "language": "python",
   "name": "python3"
  },
  "language_info": {
   "codemirror_mode": {
    "name": "ipython",
    "version": 3
   },
   "file_extension": ".py",
   "mimetype": "text/x-python",
   "name": "python",
   "nbconvert_exporter": "python",
   "pygments_lexer": "ipython3",
   "version": "3.9.6"
  }
 },
 "nbformat": 4,
 "nbformat_minor": 4
}
