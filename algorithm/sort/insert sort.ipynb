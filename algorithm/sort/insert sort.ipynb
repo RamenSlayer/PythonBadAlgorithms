{
 "cells": [
  {
   "cell_type": "code",
   "execution_count": 1,
   "metadata": {},
   "outputs": [],
   "source": [
    "def insort(l, n=None):\n",
    "    if n is None:\n",
    "        n = len(l)\n",
    "    srt = 0\n",
    "    for i in range(1, n):\n",
    "        if l[i] < l[i - 1]:\n",
    "            for j in range(i - 1, -1, -1):\n",
    "                if l[j] > l[j + 1]:\n",
    "                    l[j], l[j + 1] = l[j + 1], l[j]\n",
    "#                     print(l)\n",
    "    return l\n"
   ]
  },
  {
   "cell_type": "code",
   "execution_count": 2,
   "metadata": {},
   "outputs": [],
   "source": [
    "from random import random, choice\n",
    "def rgm(n): #randomly generated mass\n",
    "    tmp = []\n",
    "    sizes = [1, 10, 100, 1000, 10000, 100000, 1000000, 10000000]\n",
    "    for _ in range(n):\n",
    "        tmp.append(round(random() * choice(sizes)) + 1)\n",
    "    return tmp"
   ]
  },
  {
   "cell_type": "code",
   "execution_count": 3,
   "metadata": {},
   "outputs": [
    {
     "name": "stdout",
     "output_type": "stream",
     "text": [
      "1000\n",
      "0.1499495506286621\n",
      "True\n"
     ]
    }
   ],
   "source": [
    "from time import time\n",
    "n = int(input())\n",
    "test = rgm(n)\n",
    "start = time()\n",
    "tmp = insort(test, n)\n",
    "print(time() - start)\n",
    "print(tmp == sorted(test))"
   ]
  },
  {
   "cell_type": "code",
   "execution_count": 7,
   "metadata": {},
   "outputs": [
    {
     "name": "stdout",
     "output_type": "stream",
     "text": [
      "2\n",
      "2 1\n",
      "1 2\n"
     ]
    }
   ],
   "source": [
    "def insort(l, n=None):\n",
    "    if n is None:\n",
    "        n = len(l)\n",
    "    srt = 0\n",
    "    for i in range(1, n):\n",
    "        if l[i] < l[i - 1]:\n",
    "            for j in range(i, 0, -1):\n",
    "                if l[j - 1] > l[j]:\n",
    "                    l[j - 1], l[j] = l[j], l[j - 1]\n",
    "            print(*l)\n",
    "#     return l\n",
    "\n",
    "inn = int(input())\n",
    "inl = list(map(int, input().split()))\n",
    "insort(inl, inn)\n"
   ]
  },
  {
   "cell_type": "code",
   "execution_count": null,
   "metadata": {},
   "outputs": [],
   "source": [
    "4\n",
    "2 1 5 3 \n",
    "\n",
    "1 2 5 3 \n",
    "1 2 3 5 \n"
   ]
  }
 ],
 "metadata": {
  "kernelspec": {
   "display_name": "Python 3",
   "language": "python",
   "name": "python3"
  },
  "language_info": {
   "codemirror_mode": {
    "name": "ipython",
    "version": 3
   },
   "file_extension": ".py",
   "mimetype": "text/x-python",
   "name": "python",
   "nbconvert_exporter": "python",
   "pygments_lexer": "ipython3",
   "version": "3.9.6"
  }
 },
 "nbformat": 4,
 "nbformat_minor": 4
}
