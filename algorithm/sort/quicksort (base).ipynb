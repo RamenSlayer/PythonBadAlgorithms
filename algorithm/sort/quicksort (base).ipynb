{
 "cells": [
  {
   "cell_type": "code",
   "execution_count": 1,
   "metadata": {},
   "outputs": [],
   "source": [
    "def part(c, l, n=None):\n",
    "    if n is None:\n",
    "        n = len(l)\n",
    "    il = []\n",
    "    nl = []\n",
    "    cnt = 0\n",
    "    for i in range(n):\n",
    "        if l[i] >= c:\n",
    "            nl.append(l[i])\n",
    "        else:\n",
    "            il.append(l[i])\n",
    "            cnt += 1\n",
    "    return il + nl, cnt, n - cnt"
   ]
  },
  {
   "cell_type": "code",
   "execution_count": 4,
   "metadata": {},
   "outputs": [],
   "source": [
    "def qsort(l, n=None):\n",
    "    tmp = l\n",
    "    if n is None:\n",
    "        n = len(l)\n",
    "    if n <= 1:\n",
    "        return l\n",
    "    tmp = part(l[n // 2], tmp, n)\n",
    "    \n",
    "    return qsort(tmp[0][:tmp[1]], tmp[1]) + qsort(tmp[0][tmp[1]:], tmp[2])"
   ]
  },
  {
   "cell_type": "code",
   "execution_count": 5,
   "metadata": {},
   "outputs": [],
   "source": [
    "def qsort(l, n=None):\n",
    "    if n is None:\n",
    "        n = len(l)\n",
    "    if n <= 1:\n",
    "        return l\n",
    "\n",
    "    cond = l[n//2]\n",
    "    il = []\n",
    "    ilc = 0\n",
    "    ig = []\n",
    "    igc = 0\n",
    "    ie = []\n",
    "    for elem in l:\n",
    "        if elem < cond:\n",
    "            il.append(elem)\n",
    "            ilc += 1\n",
    "        elif elem > cond:\n",
    "            ig.append(elem)\n",
    "            igc += 1\n",
    "        else:\n",
    "            ie.append(elem)\n",
    "    return quicksort(il, ilc) + ie + quicksort(ig, igc)"
   ]
  },
  {
   "cell_type": "code",
   "execution_count": 6,
   "metadata": {},
   "outputs": [
    {
     "data": {
      "text/plain": [
       "[1, 2, 3, 4, 5]"
      ]
     },
     "execution_count": 6,
     "metadata": {},
     "output_type": "execute_result"
    }
   ],
   "source": [
    "quicksort([5, 4, 3, 2, 1])"
   ]
  },
  {
   "cell_type": "code",
   "execution_count": 27,
   "metadata": {},
   "outputs": [],
   "source": [
    "from random import random, choice\n",
    "def rgm(n): #randomly generated mass\n",
    "    if n == 0:\n",
    "        return []\n",
    "    tmp = []\n",
    "    sizes = [1, 10, 100, 1000, 10000, 100000, 1000000, 10000000]\n",
    "    for _ in range(n):\n",
    "        tmp.append(round(random() * choice(sizes)) + 1)\n",
    "    return tmp"
   ]
  },
  {
   "cell_type": "code",
   "execution_count": 33,
   "metadata": {},
   "outputs": [
    {
     "name": "stdout",
     "output_type": "stream",
     "text": [
      "100000\n",
      "0.41888999938964844\n",
      "True\n"
     ]
    }
   ],
   "source": [
    "from time import time\n",
    "n = int(input())\n",
    "\n",
    "test = rgm(n)\n",
    "\n",
    "start = time()\n",
    "\n",
    "tmp = qsort(test, n)\n",
    "\n",
    "print(time() - start)\n",
    "print(tmp == sorted(test))"
   ]
  },
  {
   "cell_type": "code",
   "execution_count": 9,
   "metadata": {},
   "outputs": [
    {
     "name": "stdout",
     "output_type": "stream",
     "text": [
      "2\n",
      "2 1\n",
      "1 2\n"
     ]
    }
   ],
   "source": [
    "def qsort(l, n=None):\n",
    "    if n is None:\n",
    "        n = len(l)\n",
    "    if n <= 1:\n",
    "        return l\n",
    "\n",
    "    cond = l[n//2]\n",
    "    il = []\n",
    "    ilc = 0\n",
    "    ig = []\n",
    "    igc = 0\n",
    "    ie = []\n",
    "    for elem in l:\n",
    "        if elem < cond:\n",
    "            il.append(elem)\n",
    "            ilc += 1\n",
    "        elif elem > cond:\n",
    "            ig.append(elem)\n",
    "            igc += 1\n",
    "        else:\n",
    "            ie.append(elem)\n",
    "    return qsort(il, ilc) + ie + qsort(ig, igc)\n",
    "\n",
    "inn = int(input())\n",
    "inl = list(map(int, input().split()))\n",
    "print(*qsort(inl, inn))\n"
   ]
  },
  {
   "cell_type": "code",
   "execution_count": null,
   "metadata": {},
   "outputs": [],
   "source": []
  }
 ],
 "metadata": {
  "kernelspec": {
   "display_name": "Python 3",
   "language": "python",
   "name": "python3"
  },
  "language_info": {
   "codemirror_mode": {
    "name": "ipython",
    "version": 3
   },
   "file_extension": ".py",
   "mimetype": "text/x-python",
   "name": "python",
   "nbconvert_exporter": "python",
   "pygments_lexer": "ipython3",
   "version": "3.9.6"
  }
 },
 "nbformat": 4,
 "nbformat_minor": 4
}
