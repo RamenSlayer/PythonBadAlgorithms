{
 "cells": [
  {
   "cell_type": "code",
   "execution_count": 3,
   "metadata": {},
   "outputs": [],
   "source": [
    "def merge(a, b, n=None, m=None):\n",
    "    if n is None:\n",
    "        n = len(a)\n",
    "    if m is None:\n",
    "        m = len(b)\n",
    "    up = 0\n",
    "    down = 0\n",
    "    out = []\n",
    "    while up != n and down != m:\n",
    "        if a[up] < b[down]:\n",
    "            out.append(a[up])\n",
    "            up += 1\n",
    "        else:\n",
    "            out.append(b[down])\n",
    "            down += 1\n",
    "    if up == n:\n",
    "        out += b[down:]\n",
    "    elif down == m:\n",
    "        out += a[up:]\n",
    "    return out"
   ]
  },
  {
   "cell_type": "code",
   "execution_count": 4,
   "metadata": {},
   "outputs": [],
   "source": [
    "def mergesort(l, n):\n",
    "    if n == 1:\n",
    "        return l\n",
    "    return merge(mergesort(l[:n // 2], n // 2), mergesort(l[n // 2:], n - n // 2))"
   ]
  },
  {
   "cell_type": "code",
   "execution_count": null,
   "metadata": {},
   "outputs": [],
   "source": []
  },
  {
   "cell_type": "code",
   "execution_count": 5,
   "metadata": {},
   "outputs": [],
   "source": [
    "from random import random, choice\n",
    "def rgm(n): #randomly generated mass\n",
    "    tmp = []\n",
    "    sizes = [1, 10, 100, 1000, 10000, 100000, 1000000, 10000000]\n",
    "    for _ in range(n):\n",
    "        tmp.append(round(random() * choice(sizes)) + 1)\n",
    "    return tmp"
   ]
  },
  {
   "cell_type": "code",
   "execution_count": 6,
   "metadata": {},
   "outputs": [
    {
     "name": "stdout",
     "output_type": "stream",
     "text": [
      "1000000\n",
      "8.805136442184448\n",
      "True\n"
     ]
    }
   ],
   "source": [
    "from time import time\n",
    "n = int(input())\n",
    "\n",
    "test = rgm(n)\n",
    "\n",
    "start = time()\n",
    "\n",
    "tmp = mergesort(test, n)\n",
    "\n",
    "print(time() - start)\n",
    "print(tmp == sorted(test))"
   ]
  },
  {
   "cell_type": "code",
   "execution_count": 28,
   "metadata": {},
   "outputs": [
    {
     "name": "stdout",
     "output_type": "stream",
     "text": [
      "100000\n",
      "100000\n",
      "100000\n",
      "0.39887237548828125\n",
      "True\n"
     ]
    }
   ],
   "source": [
    "from time import time\n",
    "n = int(input())\n",
    "m = int(input())\n",
    "p = int(input())\n",
    "\n",
    "test1 = sorted(rgm(n))\n",
    "test2 = sorted(rgm(m))\n",
    "test3 = sorted(rgm(p))\n",
    "\n",
    "start = time()\n",
    "\n",
    "tmp = mersort(test1, test2, n, m)\n",
    "tmp = mersort(tmp, test3, n + m, p)\n",
    "\n",
    "print(time() - start)\n",
    "print(tmp == sorted(test1 + test2 + test3))"
   ]
  },
  {
   "cell_type": "code",
   "execution_count": 27,
   "metadata": {},
   "outputs": [
    {
     "name": "stdout",
     "output_type": "stream",
     "text": [
      "2 1 2\n",
      "2 3\n",
      "2\n",
      "1 4\n",
      "1 2 2 3 4\n"
     ]
    }
   ],
   "source": [
    "def mersort(a, b, n=None, m=None):\n",
    "    if n is None:\n",
    "        n = len(a)\n",
    "    if m is None:\n",
    "        m = len(b)\n",
    "    up = 0\n",
    "    down = 0\n",
    "    out = []\n",
    "    while up != n and down != m:\n",
    "        if a[up] < b[down]:\n",
    "            out.append(a[up])\n",
    "            up += 1\n",
    "        else:\n",
    "            out.append(b[down])\n",
    "            down += 1\n",
    "    if up == n:\n",
    "        out += b[down:]\n",
    "    elif down == m:\n",
    "        out += a[up:]\n",
    "    return out\n",
    "\n",
    "inpl = input().split()\n",
    "n = int(inpl[0])\n",
    "a = list(map(int, input().split()))\n",
    "m = int(inpl[1])\n",
    "b = list(map(int, input().split()))\n",
    "p = int(inpl[2])\n",
    "c = list(map(int, input().split()))\n",
    "print(*mersort(mersort(a, b, n, m), c, n + m, p))\n"
   ]
  },
  {
   "cell_type": "code",
   "execution_count": 1,
   "metadata": {},
   "outputs": [
    {
     "name": "stdout",
     "output_type": "stream",
     "text": [
      "0\n",
      "\n",
      "\n"
     ]
    }
   ],
   "source": [
    "def merge(a, b, n=None, m=None):\n",
    "    if n is None:\n",
    "        n = len(a)\n",
    "    if m is None:\n",
    "        m = len(b)\n",
    "    up = 0\n",
    "    down = 0\n",
    "    out = []\n",
    "    while up != n and down != m:\n",
    "        if a[up] < b[down]:\n",
    "            out.append(a[up])\n",
    "            up += 1\n",
    "        else:\n",
    "            out.append(b[down])\n",
    "            down += 1\n",
    "    if up == n:\n",
    "        out += b[down:]\n",
    "    elif down == m:\n",
    "        out += a[up:]\n",
    "    return out\n",
    "\n",
    "\n",
    "def mergesort(l, n):\n",
    "    if n <= 1:\n",
    "        return l\n",
    "    tmp = n // 2\n",
    "    return merge(mergesort(l[:tmp], tmp), mergesort(l[tmp:], n - tmp))\n",
    "\n",
    "inn = int(input())\n",
    "inl = list(map(int, input().split()))\n",
    "print(*mergesort(inl, inn))\n"
   ]
  }
 ],
 "metadata": {
  "kernelspec": {
   "display_name": "Python 3",
   "language": "python",
   "name": "python3"
  },
  "language_info": {
   "codemirror_mode": {
    "name": "ipython",
    "version": 3
   },
   "file_extension": ".py",
   "mimetype": "text/x-python",
   "name": "python",
   "nbconvert_exporter": "python",
   "pygments_lexer": "ipython3",
   "version": "3.9.6"
  }
 },
 "nbformat": 4,
 "nbformat_minor": 4
}
