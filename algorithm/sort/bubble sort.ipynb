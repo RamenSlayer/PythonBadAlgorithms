{
 "cells": [
  {
   "cell_type": "code",
   "execution_count": 11,
   "metadata": {},
   "outputs": [],
   "source": [
    "from random import random, choice\n",
    "def rgm(n): #randomly generated mass\n",
    "    tmp = []\n",
    "    sizes = [1, 10, 100, 1000, 10000, 100000, 1000000, 10000000]\n",
    "    for _ in range(n):\n",
    "        tmp.append(round(random() * choice(sizes)) + 1)\n",
    "    return tmp"
   ]
  },
  {
   "cell_type": "code",
   "execution_count": 22,
   "metadata": {},
   "outputs": [
    {
     "name": "stdout",
     "output_type": "stream",
     "text": [
      "1000\n",
      "0.48284339904785156\n",
      "True\n"
     ]
    }
   ],
   "source": [
    "from time import time\n",
    "n = int(input())\n",
    "test = rgm(n)\n",
    "start = time()\n",
    "tmp = bsort(test)\n",
    "print(time() - start)\n",
    "print(tmp == sorted(test))"
   ]
  },
  {
   "cell_type": "code",
   "execution_count": 1,
   "metadata": {},
   "outputs": [],
   "source": [
    "def csrt(l):\n",
    "    cnt = 0\n",
    "    imc = 0\n",
    "    for i, elem in enumerate(l[:-1]):\n",
    "        imc += (elem <= l[i + 1])\n",
    "        cnt += 1\n",
    "    return cnt == imc"
   ]
  },
  {
   "cell_type": "code",
   "execution_count": 5,
   "metadata": {},
   "outputs": [],
   "source": [
    "def bsort(l):\n",
    "    size = len(l)\n",
    "    m = 0\n",
    "    while not csrt(l):\n",
    "        for i in range(size - 1 - m):\n",
    "            while l[i] > l[i + 1]:\n",
    "                l[i], l[i + 1] = l[i + 1], l[i]\n",
    "        m += 1\n",
    "    return l"
   ]
  },
  {
   "cell_type": "code",
   "execution_count": 9,
   "metadata": {},
   "outputs": [
    {
     "name": "stdout",
     "output_type": "stream",
     "text": [
      "[1, 2, 3, 5, 200]\n"
     ]
    }
   ],
   "source": [
    "print(bsort([2, 200, 1, 3, 5]))"
   ]
  },
  {
   "cell_type": "code",
   "execution_count": 27,
   "metadata": {},
   "outputs": [
    {
     "name": "stdout",
     "output_type": "stream",
     "text": [
      "5\n",
      "1 2 3 4 5\n",
      "0\n"
     ]
    }
   ],
   "source": [
    "def csrt(l):\n",
    "    cnt = 0\n",
    "    imc = 0\n",
    "    for i, elem in enumerate(l[:-1]):\n",
    "        imc += (elem <= l[i + 1])\n",
    "        cnt += 1\n",
    "    return cnt == imc\n",
    "\n",
    "\n",
    "def bsortc(l, size=None):\n",
    "    size = len(l) if size is None else size\n",
    "    m = 0\n",
    "    cnt = 0\n",
    "    while not csrt(l):\n",
    "        for i in range(size - 1 - m):\n",
    "            while l[i] > l[i + 1]:\n",
    "                l[i], l[i + 1] = l[i + 1], l[i]\n",
    "                cnt += 1\n",
    "        m += 1\n",
    "    return cnt\n",
    "\n",
    "inn = int(input())\n",
    "inl = list(map(int, input().split()))\n",
    "print(bsortc(inl, inn))\n"
   ]
  },
  {
   "cell_type": "code",
   "execution_count": null,
   "metadata": {},
   "outputs": [],
   "source": [
    "5\n",
    "1 2 3 4 5 \n"
   ]
  }
 ],
 "metadata": {
  "kernelspec": {
   "display_name": "Python 3",
   "language": "python",
   "name": "python3"
  },
  "language_info": {
   "codemirror_mode": {
    "name": "ipython",
    "version": 3
   },
   "file_extension": ".py",
   "mimetype": "text/x-python",
   "name": "python",
   "nbconvert_exporter": "python",
   "pygments_lexer": "ipython3",
   "version": "3.9.6"
  }
 },
 "nbformat": 4,
 "nbformat_minor": 4
}
