{
 "cells": [
  {
   "cell_type": "code",
   "execution_count": 1,
   "metadata": {},
   "outputs": [],
   "source": [
    "def ZF(s):\n",
    "    n = len(s)\n",
    "    z = [0 for i in range(n)]\n",
    "    l, r = 0, 0\n",
    "    for i in range(1, n):\n",
    "        z[i] = max(0, min(r - i, z[i - l]))\n",
    "        while (i + z[i] < n) and (s[z[i]] == s[i + z[i]]):\n",
    "            z[i] += 1\n",
    "        if i + z[i] > r:\n",
    "            l = i\n",
    "            r = i + z[i]\n",
    "    return z"
   ]
  },
  {
   "cell_type": "code",
   "execution_count": 10,
   "metadata": {},
   "outputs": [
    {
     "data": {
      "text/plain": [
       "[0, 0, 0, 5, 0, 0, 2, 0]"
      ]
     },
     "execution_count": 10,
     "metadata": {},
     "output_type": "execute_result"
    }
   ],
   "source": [
    "ZF('bcabcabc')"
   ]
  },
  {
   "cell_type": "code",
   "execution_count": 11,
   "metadata": {},
   "outputs": [
    {
     "name": "stdout",
     "output_type": "stream",
     "text": [
      "bcabcabc\n",
      "3\n"
     ]
    }
   ],
   "source": [
    "def ZF(s):\n",
    "    n = len(s)\n",
    "    z = [0 for i in range(n)]\n",
    "    l, r = 0, 0\n",
    "    for i in range(1, n):\n",
    "        z[i] = max(0, min(r - i, z[i - l]))\n",
    "        while (i + z[i] < n) and (s[z[i]] == s[i + z[i]]):\n",
    "            z[i] += 1\n",
    "        if i + z[i] > r:\n",
    "            l = i\n",
    "            r = i + z[i]\n",
    "    return z\n",
    "\n",
    "s = input()\n",
    "z = ZF(s)\n",
    "\n",
    "n = len(s)\n",
    "res = None\n",
    "\n",
    "for i in range(n):\n",
    "    if z[i] + i == n:\n",
    "        res = i\n",
    "        break\n",
    "print(res if res is not None else n)\n"
   ]
  },
  {
   "cell_type": "code",
   "execution_count": 7,
   "metadata": {},
   "outputs": [
    {
     "data": {
      "text/plain": [
       "[0, 3, 2, 1]"
      ]
     },
     "execution_count": 7,
     "metadata": {},
     "output_type": "execute_result"
    }
   ],
   "source": [
    "ZF('zzzz')"
   ]
  },
  {
   "cell_type": "code",
   "execution_count": null,
   "metadata": {},
   "outputs": [],
   "source": []
  }
 ],
 "metadata": {
  "kernelspec": {
   "display_name": "Python 3",
   "language": "python",
   "name": "python3"
  },
  "language_info": {
   "codemirror_mode": {
    "name": "ipython",
    "version": 3
   },
   "file_extension": ".py",
   "mimetype": "text/x-python",
   "name": "python",
   "nbconvert_exporter": "python",
   "pygments_lexer": "ipython3",
   "version": "3.9.6"
  }
 },
 "nbformat": 4,
 "nbformat_minor": 4
}
