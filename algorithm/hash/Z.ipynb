{
 "cells": [
  {
   "cell_type": "code",
   "execution_count": 79,
   "metadata": {},
   "outputs": [],
   "source": [
    "def ZF(s):\n",
    "    n = len(s)\n",
    "    z = [0 for i in range(n)]\n",
    "    l, r = 0, 0\n",
    "    for i in range(1, n):\n",
    "        z[i] = max(0, min(r - i, z[i - l]))\n",
    "        while (i + z[i] < n) and (s[z[i]] == s[i + z[i]]):\n",
    "            z[i] += 1\n",
    "        if i + z[i] > r:\n",
    "            l = i\n",
    "            r = i + z[i]\n",
    "    return z"
   ]
  },
  {
   "cell_type": "code",
   "execution_count": 75,
   "metadata": {},
   "outputs": [],
   "source": [
    "def fss(s, pat, n=None, m=None):\n",
    "    if n is None:\n",
    "        n = len(s)\n",
    "    if m is None:\n",
    "        m = len(pat)\n",
    "    z = ZF(pat + '#' + s)\n",
    "    for i in range(m + 1, n + 1):\n",
    "        if z[i] == m:\n",
    "            return i\n",
    "    return None"
   ]
  },
  {
   "cell_type": "raw",
   "metadata": {},
   "source": [
    "from pseudo code\n",
    "################################################## first faster\n",
    "from seminar + pseudo"
   ]
  },
  {
   "cell_type": "code",
   "execution_count": 78,
   "metadata": {},
   "outputs": [],
   "source": [
    "def Z(s):\n",
    "    n = len(s)\n",
    "    z = [0 for i in range(n)]\n",
    "    l, r = 0, 0\n",
    "    for i in range(1, n):\n",
    "        if i > r:\n",
    "            z[i] = 0\n",
    "        if i <= r:\n",
    "            z[i] = min(r - i + 1, z[i - l])\n",
    "        while (i + z[i] < n) and (s[z[i]] == s[z[i] + i]):\n",
    "            z[i] += 1\n",
    "        if (i + z[i] > r) and (z[i] != 0):\n",
    "            l, r = i, i + z[i]\n",
    "    return z"
   ]
  },
  {
   "cell_type": "code",
   "execution_count": 76,
   "metadata": {},
   "outputs": [],
   "source": [
    "def FSS(s, pat, n=None, m=None):\n",
    "    if n is None:\n",
    "        n = len(s)\n",
    "    if m is None:\n",
    "        m = len(pat)\n",
    "    z = Z(pat + '#' + s)\n",
    "    for i in range(m + 1, n + 1):\n",
    "        if z[i] == m:\n",
    "            return i\n",
    "    return None"
   ]
  },
  {
   "cell_type": "code",
   "execution_count": 38,
   "metadata": {},
   "outputs": [],
   "source": [
    "from time import time\n",
    "from random import choice"
   ]
  },
  {
   "cell_type": "code",
   "execution_count": 42,
   "metadata": {},
   "outputs": [],
   "source": [
    "def rstr(n, dic=None):\n",
    "    if dic is None:\n",
    "        dic = list('qwertyuiopasdfghjklzxcvbnm1234567890')\n",
    "    tmp = ''\n",
    "    for i in range(n):\n",
    "        tmp += choice(dic)\n",
    "    return tmp"
   ]
  },
  {
   "cell_type": "code",
   "execution_count": 57,
   "metadata": {},
   "outputs": [],
   "source": [
    "def dstr(s, t=1, n=None):\n",
    "    if n is None:\n",
    "        n = len(s)\n",
    "    out = s * t\n",
    "    tmp = range(n)\n",
    "    l, r = choice(tmp), choice(tmp)\n",
    "    r += n * (t - 1)\n",
    "    return out[l:r]"
   ]
  },
  {
   "cell_type": "code",
   "execution_count": 3,
   "metadata": {},
   "outputs": [
    {
     "name": "stdout",
     "output_type": "stream",
     "text": [
      "abc#dabcabc\n",
      "[0, 0, 0, 0, 0, 3, 0, 0, 3, 0, 0]\n"
     ]
    }
   ],
   "source": [
    "def ZF(s):\n",
    "    n = len(s)\n",
    "    z = [0 for i in range(n)]\n",
    "    l, r = 0, 0\n",
    "    for i in range(1, n):\n",
    "        z[i] = max(0, min(r - i, z[i - l]))\n",
    "        while (i + z[i] < n) and (s[z[i]] == s[i + z[i]]):\n",
    "            z[i] += 1\n",
    "        if i + z[i] > r:\n",
    "            l = i\n",
    "            r = i + z[i]\n",
    "    return z\n",
    "\n",
    "ins = input()\n",
    "print(ZF(ins))\n"
   ]
  },
  {
   "cell_type": "code",
   "execution_count": null,
   "metadata": {},
   "outputs": [],
   "source": []
  },
  {
   "cell_type": "code",
   "execution_count": 89,
   "metadata": {},
   "outputs": [
    {
     "data": {
      "text/plain": [
       "4"
      ]
     },
     "execution_count": 89,
     "metadata": {},
     "output_type": "execute_result"
    }
   ],
   "source": [
    "fss(\"12345\", \"23\")"
   ]
  },
  {
   "cell_type": "code",
   "execution_count": 92,
   "metadata": {},
   "outputs": [
    {
     "data": {
      "text/plain": [
       "[0, 0, 0, 0, 2, 0, 0, 0, 0, 2, 0, 0, 0, 0, 0, 1, 0, 0, 0, 1, 2, 0]"
      ]
     },
     "execution_count": 92,
     "metadata": {},
     "output_type": "execute_result"
    }
   ],
   "source": [
    "ZF(\"23#1234562363752678223\")"
   ]
  },
  {
   "cell_type": "code",
   "execution_count": null,
   "metadata": {},
   "outputs": [],
   "source": []
  }
 ],
 "metadata": {
  "kernelspec": {
   "display_name": "Python 3",
   "language": "python",
   "name": "python3"
  },
  "language_info": {
   "codemirror_mode": {
    "name": "ipython",
    "version": 3
   },
   "file_extension": ".py",
   "mimetype": "text/x-python",
   "name": "python",
   "nbconvert_exporter": "python",
   "pygments_lexer": "ipython3",
   "version": "3.9.6"
  }
 },
 "nbformat": 4,
 "nbformat_minor": 4
}
