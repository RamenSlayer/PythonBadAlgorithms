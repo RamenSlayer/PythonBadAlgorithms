{
 "cells": [
  {
   "cell_type": "code",
   "execution_count": 18,
   "metadata": {},
   "outputs": [
    {
     "name": "stdout",
     "output_type": "stream",
     "text": [
      "caeabaeadedcbdcdccec\n"
     ]
    }
   ],
   "source": [
    "ins = input()"
   ]
  },
  {
   "cell_type": "code",
   "execution_count": 19,
   "metadata": {},
   "outputs": [
    {
     "name": "stdout",
     "output_type": "stream",
     "text": [
      "10\n",
      "13 4 3\n",
      "1\n",
      "2 12 15\n",
      "-1\n",
      "10 1 3\n",
      "1\n",
      "3 8 15\n",
      "1\n",
      "13 5 6\n",
      "-1\n",
      "7 2 6\n",
      "-1\n",
      "9 8 8\n",
      "0\n",
      "19 0 0\n",
      "0\n",
      "19 0 0\n",
      "0\n",
      "6 7 13\n",
      "-1\n"
     ]
    }
   ],
   "source": [
    "for _ in range(int(input())):\n",
    "    n, f, s = map(int, input().split())\n",
    "    ftmp = ins[f:f + n]\n",
    "    stmp = ins[s:s + n]\n",
    "    if ftmp < stmp:\n",
    "        print(-1)\n",
    "    elif ftmp > stmp:\n",
    "        print(1)\n",
    "    else:\n",
    "        print(0)"
   ]
  },
  {
   "cell_type": "code",
   "execution_count": null,
   "metadata": {},
   "outputs": [],
   "source": [
    "caeabaeadedcbdcdccec\n",
    "10\n",
    "13 4 3\n",
    "2 12 15\n",
    "10 1 3\n",
    "3 8 15\n",
    "13 5 6\n",
    "7 2 6\n",
    "9 8 8\n",
    "19 0 0\n",
    "19 0 0\n",
    "6 7 13\n"
   ]
  },
  {
   "cell_type": "code",
   "execution_count": null,
   "metadata": {},
   "outputs": [],
   "source": [
    "ins = input()\n",
    "for _ in range(int(input())):\n",
    "    n, f, s = map(int, input().split())\n",
    "    ftmp = ins[f:f + n]\n",
    "    stmp = ins[s:s + n]\n",
    "    if ftmp < stmp:\n",
    "        print(-1)\n",
    "    elif ftmp > stmp:\n",
    "        print(1)\n",
    "    else:\n",
    "        print(0)\n"
   ]
  }
 ],
 "metadata": {
  "kernelspec": {
   "display_name": "Python 3",
   "language": "python",
   "name": "python3"
  },
  "language_info": {
   "codemirror_mode": {
    "name": "ipython",
    "version": 3
   },
   "file_extension": ".py",
   "mimetype": "text/x-python",
   "name": "python",
   "nbconvert_exporter": "python",
   "pygments_lexer": "ipython3",
   "version": "3.9.6"
  }
 },
 "nbformat": 4,
 "nbformat_minor": 4
}
