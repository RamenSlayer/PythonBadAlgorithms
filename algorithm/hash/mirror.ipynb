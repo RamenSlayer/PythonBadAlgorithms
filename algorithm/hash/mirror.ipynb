{
 "cells": [
  {
   "cell_type": "raw",
   "metadata": {},
   "source": [
    "<--1234 | 43210976\n",
    "\n",
    "q u e s t | t s r e u q\n",
    "\n",
    "slider from 0 to n // 2\n",
    "\n",
    "only look at places where numbers repeat? (.... |n n| ....)"
   ]
  },
  {
   "cell_type": "code",
   "execution_count": 1,
   "metadata": {},
   "outputs": [],
   "source": [
    "def ZF(s):\n",
    "    n = len(s)\n",
    "    z = [0 for i in range(n)]\n",
    "    l, r = 0, 0\n",
    "    for i in range(1, n):\n",
    "        z[i] = max(0, min(r - i, z[i - l]))\n",
    "        while (i + z[i] < n) and (s[z[i]] == s[i + z[i]]):\n",
    "            z[i] += 1\n",
    "        if i + z[i] > r:\n",
    "            l = i\n",
    "            r = i + z[i]\n",
    "    return z"
   ]
  },
  {
   "cell_type": "code",
   "execution_count": 36,
   "metadata": {},
   "outputs": [],
   "source": [
    "def fss(s, pat, n=None, m=None):\n",
    "    if n is None:\n",
    "        n = len(s)\n",
    "    if m is None:\n",
    "        m = len(pat)\n",
    "    z = ZF(pat + '#' + s)\n",
    "    for i in range(m + 1, n + 2):\n",
    "        if z[i] == m:\n",
    "            return i\n",
    "    return None"
   ]
  },
  {
   "cell_type": "code",
   "execution_count": 55,
   "metadata": {},
   "outputs": [
    {
     "name": "stdout",
     "output_type": "stream",
     "text": [
      "6 2\n",
      "1 1 2 2 1 1\n"
     ]
    }
   ],
   "source": [
    "n, m = map(int, input().split())\n",
    "cubes = \"\".join(input().split())"
   ]
  },
  {
   "cell_type": "code",
   "execution_count": 60,
   "metadata": {},
   "outputs": [],
   "source": [
    "ans = [n]\n",
    "for i in range(1, n//2 + 1):\n",
    "#     print(cubes[:i][::-1] + '|' + cubes[i:])\n",
    "    tmp = cubes[:i][::-1] + '|' + cubes[i:]\n",
    "    tmp = ZF(tmp)\n",
    "#     print(tmp)\n",
    "    if tmp[i + 1] == i:\n",
    "        ans.append(n - i)"
   ]
  },
  {
   "cell_type": "code",
   "execution_count": 62,
   "metadata": {},
   "outputs": [
    {
     "name": "stdout",
     "output_type": "stream",
     "text": [
      "3 5 6\n"
     ]
    }
   ],
   "source": [
    "print(*ans[::-1])"
   ]
  },
  {
   "cell_type": "code",
   "execution_count": null,
   "metadata": {},
   "outputs": [],
   "source": [
    "def ZF(s):\n",
    "    n = len(s)\n",
    "    z = [0 for i in range(n)]\n",
    "    l, r = 0, 0\n",
    "    for i in range(1, n):\n",
    "        z[i] = max(0, min(r - i, z[i - l]))\n",
    "        while (i + z[i] < n) and (s[z[i]] == s[i + z[i]]):\n",
    "            z[i] += 1\n",
    "        if i + z[i] > r:\n",
    "            l = i\n",
    "            r = i + z[i]\n",
    "    return z\n",
    "\n",
    "n, m = map(int, input().split())\n",
    "cubes = \"\".join(input().split())\n",
    "\n",
    "ans = [n]\n",
    "for i in range(1, n//2 + 1):\n",
    "    tmp = cubes[:i][::-1] + '|' + cubes[i:]\n",
    "    tmp = ZF(tmp)\n",
    "    if tmp[i + 1] == i:\n",
    "        ans.append(n - i)\n",
    "\n",
    "print(*ans[::-1])\n"
   ]
  },
  {
   "cell_type": "code",
   "execution_count": 64,
   "metadata": {},
   "outputs": [
    {
     "name": "stdout",
     "output_type": "stream",
     "text": [
      "6 2\n",
      "1 1 2 2 1 1\n"
     ]
    }
   ],
   "source": [
    "n, m = map(int, input().split())\n",
    "cubes = \"\".join(input().split())\n",
    "\n",
    "ans = [n]\n",
    "for i in range(1, n//2 + 1):\n",
    "    if cubes[:i][::-1] == cubes[i:i * 2]:\n",
    "        ans.append(n - i)\n",
    "\n",
    "print(*ans[::-1])\n"
   ]
  },
  {
   "cell_type": "code",
   "execution_count": 65,
   "metadata": {},
   "outputs": [
    {
     "name": "stdout",
     "output_type": "stream",
     "text": [
      "3 5 6\n"
     ]
    }
   ],
   "source": [
    "print(*ans[::-1])"
   ]
  },
  {
   "cell_type": "code",
   "execution_count": null,
   "metadata": {},
   "outputs": [],
   "source": []
  }
 ],
 "metadata": {
  "kernelspec": {
   "display_name": "Python 3",
   "language": "python",
   "name": "python3"
  },
  "language_info": {
   "codemirror_mode": {
    "name": "ipython",
    "version": 3
   },
   "file_extension": ".py",
   "mimetype": "text/x-python",
   "name": "python",
   "nbconvert_exporter": "python",
   "pygments_lexer": "ipython3",
   "version": "3.9.6"
  }
 },
 "nbformat": 4,
 "nbformat_minor": 4
}
