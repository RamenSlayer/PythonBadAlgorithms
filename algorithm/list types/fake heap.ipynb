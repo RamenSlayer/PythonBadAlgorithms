{
 "cells": [
  {
   "cell_type": "code",
   "execution_count": 112,
   "metadata": {},
   "outputs": [],
   "source": [
    "class Heap():\n",
    "    def __init__(self):\n",
    "        self.heap = []\n",
    "    def insert(self, n):\n",
    "        self.heap.insert(bfind(self.heap, n), n)\n",
    "        return\n",
    "    def extract(self):\n",
    "        return self.heap.pop()"
   ]
  },
  {
   "cell_type": "code",
   "execution_count": 97,
   "metadata": {},
   "outputs": [],
   "source": [
    "def bfind(lst, pos, l=None, r=None):\n",
    "    if l is None:\n",
    "        l = 0\n",
    "    if r is None:\n",
    "        r = len(lst)\n",
    "    mid = (l + r) // 2\n",
    "    if l > r:\n",
    "        return mid - 1\n",
    "    if mid > r - 1:\n",
    "        return r\n",
    "    if pos == lst[mid]:\n",
    "        return mid\n",
    "    elif pos < lst[mid]:\n",
    "        return bfind(lst, pos, l, mid)\n",
    "    elif pos > lst[mid]:\n",
    "        return bfind(lst, pos, mid + 1, r)"
   ]
  },
  {
   "cell_type": "code",
   "execution_count": 115,
   "metadata": {},
   "outputs": [
    {
     "name": "stdout",
     "output_type": "stream",
     "text": [
      "14\n",
      "0 1\n",
      "0 345\n",
      "1\n",
      "345\n",
      "0 4346\n",
      "1\n",
      "4346\n",
      "0\n"
     ]
    },
    {
     "ename": "IndexError",
     "evalue": "list index out of range",
     "output_type": "error",
     "traceback": [
      "\u001b[1;31m---------------------------------------------------------------------------\u001b[0m",
      "\u001b[1;31mIndexError\u001b[0m                                Traceback (most recent call last)",
      "\u001b[1;32m<ipython-input-115-b9510e594a79>\u001b[0m in \u001b[0;36m<module>\u001b[1;34m\u001b[0m\n\u001b[0;32m      5\u001b[0m     \u001b[0mtmp\u001b[0m \u001b[1;33m=\u001b[0m \u001b[0minput\u001b[0m\u001b[1;33m(\u001b[0m\u001b[1;33m)\u001b[0m\u001b[1;33m\u001b[0m\u001b[1;33m\u001b[0m\u001b[0m\n\u001b[0;32m      6\u001b[0m     \u001b[1;32mif\u001b[0m \u001b[0mtmp\u001b[0m\u001b[1;33m[\u001b[0m\u001b[1;36m0\u001b[0m\u001b[1;33m]\u001b[0m \u001b[1;33m==\u001b[0m \u001b[1;34m\"0\"\u001b[0m\u001b[1;33m:\u001b[0m\u001b[1;33m\u001b[0m\u001b[1;33m\u001b[0m\u001b[0m\n\u001b[1;32m----> 7\u001b[1;33m         \u001b[0mh\u001b[0m\u001b[1;33m.\u001b[0m\u001b[0minsert\u001b[0m\u001b[1;33m(\u001b[0m\u001b[0mint\u001b[0m\u001b[1;33m(\u001b[0m\u001b[0mtmp\u001b[0m\u001b[1;33m.\u001b[0m\u001b[0msplit\u001b[0m\u001b[1;33m(\u001b[0m\u001b[1;33m)\u001b[0m\u001b[1;33m[\u001b[0m\u001b[1;36m1\u001b[0m\u001b[1;33m]\u001b[0m\u001b[1;33m)\u001b[0m\u001b[1;33m)\u001b[0m\u001b[1;33m\u001b[0m\u001b[1;33m\u001b[0m\u001b[0m\n\u001b[0m\u001b[0;32m      8\u001b[0m     \u001b[1;32melif\u001b[0m \u001b[0mtmp\u001b[0m\u001b[1;33m[\u001b[0m\u001b[1;36m0\u001b[0m\u001b[1;33m]\u001b[0m \u001b[1;33m==\u001b[0m \u001b[1;34m\"1\"\u001b[0m\u001b[1;33m:\u001b[0m\u001b[1;33m\u001b[0m\u001b[1;33m\u001b[0m\u001b[0m\n\u001b[0;32m      9\u001b[0m         \u001b[0mprint\u001b[0m\u001b[1;33m(\u001b[0m\u001b[0mh\u001b[0m\u001b[1;33m.\u001b[0m\u001b[0mextract\u001b[0m\u001b[1;33m(\u001b[0m\u001b[1;33m)\u001b[0m\u001b[1;33m)\u001b[0m\u001b[1;33m\u001b[0m\u001b[1;33m\u001b[0m\u001b[0m\n",
      "\u001b[1;31mIndexError\u001b[0m: list index out of range"
     ]
    }
   ],
   "source": [
    "def bfind(lst, pos, l=None, r=None):\n",
    "    if l is None:\n",
    "        l = 0\n",
    "    if r is None:\n",
    "        r = len(lst)\n",
    "    mid = (l + r) // 2\n",
    "    if l > r:\n",
    "        return mid - 1\n",
    "    if mid > r - 1:\n",
    "        return r\n",
    "    if pos == lst[mid]:\n",
    "        return mid\n",
    "    elif pos < lst[mid]:\n",
    "        return bfind(lst, pos, l, mid)\n",
    "    elif pos > lst[mid]:\n",
    "        return bfind(lst, pos, mid + 1, r)\n",
    "\n",
    "\n",
    "class Heap():\n",
    "    def __init__(self):\n",
    "        self.heap = []\n",
    "\n",
    "    def insert(self, n):\n",
    "        self.heap.insert(bfind(self.heap, n), n)\n",
    "        return\n",
    "\n",
    "    def extract(self):\n",
    "        return self.heap.pop()\n",
    "\n",
    "\n",
    "h = Heap()\n",
    "\n",
    "n = int(input())\n",
    "for i in range(n):\n",
    "    tmp = input()\n",
    "    if tmp[0] == \"0\":\n",
    "        h.insert(int(tmp.split()[1]))\n",
    "    elif tmp[0] == \"1\":\n",
    "        print(h.extract())\n"
   ]
  }
 ],
 "metadata": {
  "kernelspec": {
   "display_name": "Python 3",
   "language": "python",
   "name": "python3"
  },
  "language_info": {
   "codemirror_mode": {
    "name": "ipython",
    "version": 3
   },
   "file_extension": ".py",
   "mimetype": "text/x-python",
   "name": "python",
   "nbconvert_exporter": "python",
   "pygments_lexer": "ipython3",
   "version": "3.9.6"
  }
 },
 "nbformat": 4,
 "nbformat_minor": 4
}
