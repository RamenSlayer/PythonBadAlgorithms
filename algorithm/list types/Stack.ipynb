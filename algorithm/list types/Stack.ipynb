{
 "cells": [
  {
   "cell_type": "code",
   "execution_count": 27,
   "metadata": {},
   "outputs": [
    {
     "name": "stdout",
     "output_type": "stream",
     "text": [
      "push 1\n",
      "ok\n",
      "back\n",
      "1\n",
      "clear\n",
      "ok\n",
      "back\n",
      "error\n",
      "size\n",
      "0\n",
      "pop\n",
      "error\n",
      "exit\n",
      "bye\n"
     ]
    }
   ],
   "source": [
    "class Stack():\n",
    "    def __init__(self):\n",
    "        self.stack = []\n",
    "        self.Size = 0\n",
    "\n",
    "    def push(self, n):\n",
    "        self.stack.append(n)\n",
    "        self.Size += 1\n",
    "        print('ok')\n",
    "\n",
    "    def pop(self):\n",
    "        if self.Size != 0:\n",
    "            print(self.stack.pop())\n",
    "            self.Size -= 1\n",
    "        else:\n",
    "            print('error')\n",
    "\n",
    "    def size(self):\n",
    "        print(self.Size)\n",
    "\n",
    "    def clear(self):\n",
    "        self.stack = []\n",
    "        self.Size = 0\n",
    "        print('ok')\n",
    "\n",
    "    def back(self):\n",
    "        if self.Size != 0:\n",
    "            print(self.stack[-1])\n",
    "        else:\n",
    "            print(\"error\")\n",
    "\n",
    "    def __str__(self):\n",
    "        return self.stack\n",
    "\n",
    "\n",
    "stc = Stack()\n",
    "\n",
    "while True:\n",
    "    tmp = input().split()\n",
    "    if tmp[0] == 'push':\n",
    "        stc.push(tmp[1])\n",
    "    elif tmp[0] == 'pop':\n",
    "        stc.pop()\n",
    "    elif tmp[0] == 'size':\n",
    "        stc.size()\n",
    "    elif tmp[0] == 'clear':\n",
    "        stc.clear()\n",
    "    elif tmp[0] == 'back':\n",
    "        stc.back()\n",
    "    elif tmp[0] == 'exit':\n",
    "        print('bye')\n",
    "        break\n"
   ]
  },
  {
   "cell_type": "markdown",
   "metadata": {},
   "source": [
    "Скобки"
   ]
  },
  {
   "cell_type": "code",
   "execution_count": 51,
   "metadata": {},
   "outputs": [
    {
     "name": "stdout",
     "output_type": "stream",
     "text": [
      "((())\n",
      "no\n"
     ]
    }
   ],
   "source": [
    "class Stack():\n",
    "    def __init__(self):\n",
    "        self.stack = []\n",
    "        self.Size = 0\n",
    "\n",
    "    def push(self, n):\n",
    "        self.stack.append(n)\n",
    "        self.Size += 1\n",
    "\n",
    "    def pop(self):\n",
    "        self.stack.pop()\n",
    "        self.Size -= 1\n",
    "\n",
    "    def size(self):\n",
    "        return(self.Size)\n",
    "\n",
    "    def clear(self):\n",
    "        self.stack = []\n",
    "        self.Size = 0\n",
    "\n",
    "    def back(self):\n",
    "        return self.stack[-1]\n",
    "\n",
    "    def __str__(self):\n",
    "        return self.stack\n",
    "\n",
    "stc = Stack()\n",
    "inp = input()\n",
    "right = {'(': ')', '{': '}', '[': ']'}\n",
    "ans = \"yes\"\n",
    "if len(inp) < 2:\n",
    "    ans = \"no\"\n",
    "else:\n",
    "    for bracket in inp:\n",
    "        if bracket in \"([{\":\n",
    "            stc.push(bracket)\n",
    "        else:\n",
    "            if stc.size() == 0:\n",
    "                ans = \"no\"\n",
    "                break\n",
    "            elif right[stc.back()] == bracket:\n",
    "                stc.pop()\n",
    "            else:\n",
    "                ans = \"no\"\n",
    "                break\n",
    "    if stc.size() > 0:\n",
    "        ans = \"no\"\n",
    "print(ans)\n"
   ]
  },
  {
   "cell_type": "code",
   "execution_count": null,
   "metadata": {},
   "outputs": [],
   "source": []
  }
 ],
 "metadata": {
  "kernelspec": {
   "display_name": "Python 3",
   "language": "python",
   "name": "python3"
  },
  "language_info": {
   "codemirror_mode": {
    "name": "ipython",
    "version": 3
   },
   "file_extension": ".py",
   "mimetype": "text/x-python",
   "name": "python",
   "nbconvert_exporter": "python",
   "pygments_lexer": "ipython3",
   "version": "3.9.6"
  }
 },
 "nbformat": 4,
 "nbformat_minor": 4
}
